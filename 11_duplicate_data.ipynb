{
 "cells": [
  {
   "attachments": {},
   "cell_type": "markdown",
   "metadata": {},
   "source": [
    "# Duplicate Data\n",
    "It turns out that we have quite a bit of duplicate data in our dataset which is making training less useful and likely over estimating our model's effectiveness because of repeated data between the test and train datasets.\n",
    "\n",
    "Let's remove the duplicates."
   ]
  },
  {
   "cell_type": "code",
   "execution_count": 7,
   "metadata": {},
   "outputs": [
    {
     "data": {
      "text/html": [
       "<div>\n",
       "<style scoped>\n",
       "    .dataframe tbody tr th:only-of-type {\n",
       "        vertical-align: middle;\n",
       "    }\n",
       "\n",
       "    .dataframe tbody tr th {\n",
       "        vertical-align: top;\n",
       "    }\n",
       "\n",
       "    .dataframe thead th {\n",
       "        text-align: right;\n",
       "    }\n",
       "</style>\n",
       "<table border=\"1\" class=\"dataframe\">\n",
       "  <thead>\n",
       "    <tr style=\"text-align: right;\">\n",
       "      <th></th>\n",
       "      <th>answer</th>\n",
       "      <th>clue</th>\n",
       "    </tr>\n",
       "  </thead>\n",
       "  <tbody>\n",
       "    <tr>\n",
       "      <th>0</th>\n",
       "      <td>pat</td>\n",
       "      <td>action done while saying \"good dog\"</td>\n",
       "    </tr>\n",
       "    <tr>\n",
       "      <th>1</th>\n",
       "      <td>rascals</td>\n",
       "      <td>mischief-makers</td>\n",
       "    </tr>\n",
       "    <tr>\n",
       "      <th>2</th>\n",
       "      <td>pen</td>\n",
       "      <td>it might click for a writer</td>\n",
       "    </tr>\n",
       "    <tr>\n",
       "      <th>3</th>\n",
       "      <td>sep</td>\n",
       "      <td>fall mo.</td>\n",
       "    </tr>\n",
       "    <tr>\n",
       "      <th>4</th>\n",
       "      <td>eco</td>\n",
       "      <td>kind to mother nature</td>\n",
       "    </tr>\n",
       "    <tr>\n",
       "      <th>...</th>\n",
       "      <td>...</td>\n",
       "      <td>...</td>\n",
       "    </tr>\n",
       "    <tr>\n",
       "      <th>770356</th>\n",
       "      <td>nat</td>\n",
       "      <td>actor pendleton</td>\n",
       "    </tr>\n",
       "    <tr>\n",
       "      <th>770357</th>\n",
       "      <td>shred</td>\n",
       "      <td>bit</td>\n",
       "    </tr>\n",
       "    <tr>\n",
       "      <th>770358</th>\n",
       "      <td>nea</td>\n",
       "      <td>teachers' org.</td>\n",
       "    </tr>\n",
       "    <tr>\n",
       "      <th>770359</th>\n",
       "      <td>beg</td>\n",
       "      <td>petition</td>\n",
       "    </tr>\n",
       "    <tr>\n",
       "      <th>770360</th>\n",
       "      <td>sis</td>\n",
       "      <td>family girl</td>\n",
       "    </tr>\n",
       "  </tbody>\n",
       "</table>\n",
       "<p>770361 rows × 2 columns</p>\n",
       "</div>"
      ],
      "text/plain": [
       "         answer                                 clue\n",
       "0           pat  action done while saying \"good dog\"\n",
       "1       rascals                      mischief-makers\n",
       "2           pen          it might click for a writer\n",
       "3           sep                             fall mo.\n",
       "4           eco                kind to mother nature\n",
       "...         ...                                  ...\n",
       "770356      nat                      actor pendleton\n",
       "770357    shred                                  bit\n",
       "770358      nea                       teachers' org.\n",
       "770359      beg                             petition\n",
       "770360      sis                          family girl\n",
       "\n",
       "[770361 rows x 2 columns]"
      ]
     },
     "execution_count": 7,
     "metadata": {},
     "output_type": "execute_result"
    }
   ],
   "source": [
    "import pandas as pd\n",
    "df = pd.read_csv(\"cleaned_data/clean_2.csv\", keep_default_na=False)\n",
    "df"
   ]
  },
  {
   "cell_type": "code",
   "execution_count": 8,
   "metadata": {},
   "outputs": [
    {
     "name": "stdout",
     "output_type": "stream",
     "text": [
      "Dropped 220408 duplicates\n",
      "len(df)=770361,len(dropped_duplicates)=549953\n"
     ]
    }
   ],
   "source": [
    "dropped_duplicates = df.drop_duplicates()\n",
    "print(f'Dropped {len(df) - len(dropped_duplicates)} duplicates')\n",
    "print(f'{len(df)=},{len(dropped_duplicates)=}')"
   ]
  },
  {
   "cell_type": "code",
   "execution_count": 9,
   "metadata": {},
   "outputs": [],
   "source": [
    "dropped_duplicates.to_csv('cleaned_data/clean_3.csv', index=False)"
   ]
  }
 ],
 "metadata": {
  "kernelspec": {
   "display_name": "ml_dev",
   "language": "python",
   "name": "python3"
  },
  "language_info": {
   "codemirror_mode": {
    "name": "ipython",
    "version": 3
   },
   "file_extension": ".py",
   "mimetype": "text/x-python",
   "name": "python",
   "nbconvert_exporter": "python",
   "pygments_lexer": "ipython3",
   "version": "3.9.15"
  },
  "orig_nbformat": 4,
  "vscode": {
   "interpreter": {
    "hash": "42b85a257f5624c76500f25a969244d887270373d8988c1b039e87d3dd5d8436"
   }
  }
 },
 "nbformat": 4,
 "nbformat_minor": 2
}
