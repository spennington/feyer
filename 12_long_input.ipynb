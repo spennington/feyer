{
 "cells": [
  {
   "attachments": {},
   "cell_type": "markdown",
   "metadata": {},
   "source": [
    "# Long Input\n",
    "At some point when training I realized taht we were bloating the network size because of a few clues containing a long number of words. We were padding every input to length 40 and each of those were going into the embedding table. Let's take a look at how many long clues we actually have. "
   ]
  },
  {
   "cell_type": "code",
   "execution_count": 1,
   "metadata": {},
   "outputs": [
    {
     "data": {
      "text/html": [
       "<div>\n",
       "<style scoped>\n",
       "    .dataframe tbody tr th:only-of-type {\n",
       "        vertical-align: middle;\n",
       "    }\n",
       "\n",
       "    .dataframe tbody tr th {\n",
       "        vertical-align: top;\n",
       "    }\n",
       "\n",
       "    .dataframe thead th {\n",
       "        text-align: right;\n",
       "    }\n",
       "</style>\n",
       "<table border=\"1\" class=\"dataframe\">\n",
       "  <thead>\n",
       "    <tr style=\"text-align: right;\">\n",
       "      <th></th>\n",
       "      <th>answer</th>\n",
       "      <th>clue</th>\n",
       "    </tr>\n",
       "  </thead>\n",
       "  <tbody>\n",
       "    <tr>\n",
       "      <th>0</th>\n",
       "      <td>pat</td>\n",
       "      <td>action done while saying \"good dog\"</td>\n",
       "    </tr>\n",
       "    <tr>\n",
       "      <th>1</th>\n",
       "      <td>rascals</td>\n",
       "      <td>mischief-makers</td>\n",
       "    </tr>\n",
       "    <tr>\n",
       "      <th>2</th>\n",
       "      <td>pen</td>\n",
       "      <td>it might click for a writer</td>\n",
       "    </tr>\n",
       "    <tr>\n",
       "      <th>3</th>\n",
       "      <td>sep</td>\n",
       "      <td>fall mo.</td>\n",
       "    </tr>\n",
       "    <tr>\n",
       "      <th>4</th>\n",
       "      <td>eco</td>\n",
       "      <td>kind to mother nature</td>\n",
       "    </tr>\n",
       "    <tr>\n",
       "      <th>...</th>\n",
       "      <td>...</td>\n",
       "      <td>...</td>\n",
       "    </tr>\n",
       "    <tr>\n",
       "      <th>770356</th>\n",
       "      <td>nat</td>\n",
       "      <td>actor pendleton</td>\n",
       "    </tr>\n",
       "    <tr>\n",
       "      <th>770357</th>\n",
       "      <td>shred</td>\n",
       "      <td>bit</td>\n",
       "    </tr>\n",
       "    <tr>\n",
       "      <th>770358</th>\n",
       "      <td>nea</td>\n",
       "      <td>teachers' org.</td>\n",
       "    </tr>\n",
       "    <tr>\n",
       "      <th>770359</th>\n",
       "      <td>beg</td>\n",
       "      <td>petition</td>\n",
       "    </tr>\n",
       "    <tr>\n",
       "      <th>770360</th>\n",
       "      <td>sis</td>\n",
       "      <td>family girl</td>\n",
       "    </tr>\n",
       "  </tbody>\n",
       "</table>\n",
       "<p>770361 rows × 2 columns</p>\n",
       "</div>"
      ],
      "text/plain": [
       "         answer                                 clue\n",
       "0           pat  action done while saying \"good dog\"\n",
       "1       rascals                      mischief-makers\n",
       "2           pen          it might click for a writer\n",
       "3           sep                             fall mo.\n",
       "4           eco                kind to mother nature\n",
       "...         ...                                  ...\n",
       "770356      nat                      actor pendleton\n",
       "770357    shred                                  bit\n",
       "770358      nea                       teachers' org.\n",
       "770359      beg                             petition\n",
       "770360      sis                          family girl\n",
       "\n",
       "[770361 rows x 2 columns]"
      ]
     },
     "execution_count": 1,
     "metadata": {},
     "output_type": "execute_result"
    }
   ],
   "source": [
    "import pandas as pd\n",
    "df = pd.read_csv(\"cleaned_data/clean_2.csv\", keep_default_na=False)\n",
    "df"
   ]
  },
  {
   "cell_type": "code",
   "execution_count": 2,
   "metadata": {},
   "outputs": [
    {
     "data": {
      "text/html": [
       "<div>\n",
       "<style scoped>\n",
       "    .dataframe tbody tr th:only-of-type {\n",
       "        vertical-align: middle;\n",
       "    }\n",
       "\n",
       "    .dataframe tbody tr th {\n",
       "        vertical-align: top;\n",
       "    }\n",
       "\n",
       "    .dataframe thead th {\n",
       "        text-align: right;\n",
       "    }\n",
       "</style>\n",
       "<table border=\"1\" class=\"dataframe\">\n",
       "  <thead>\n",
       "    <tr style=\"text-align: right;\">\n",
       "      <th></th>\n",
       "      <th>answer</th>\n",
       "      <th>clue</th>\n",
       "      <th>clue_tokens</th>\n",
       "    </tr>\n",
       "  </thead>\n",
       "  <tbody>\n",
       "    <tr>\n",
       "      <th>321600</th>\n",
       "      <td>abe</td>\n",
       "      <td>nickname of the man (born 2/12/1809) who gave ...</td>\n",
       "      <td>42</td>\n",
       "    </tr>\n",
       "    <tr>\n",
       "      <th>52900</th>\n",
       "      <td>oct</td>\n",
       "      <td>mo. when the n.f.l., n.b.a., n.h.l. and m.l.b....</td>\n",
       "      <td>34</td>\n",
       "    </tr>\n",
       "    <tr>\n",
       "      <th>4578</th>\n",
       "      <td>seneca</td>\n",
       "      <td>roman philosopher who said \"life is never inco...</td>\n",
       "      <td>34</td>\n",
       "    </tr>\n",
       "    <tr>\n",
       "      <th>100497</th>\n",
       "      <td>oprah</td>\n",
       "      <td>who said \"i'm black. i don't feel burdened by ...</td>\n",
       "      <td>33</td>\n",
       "    </tr>\n",
       "    <tr>\n",
       "      <th>160005</th>\n",
       "      <td>sotomayor</td>\n",
       "      <td>supreme court justice who once said \"i am a ne...</td>\n",
       "      <td>31</td>\n",
       "    </tr>\n",
       "    <tr>\n",
       "      <th>...</th>\n",
       "      <td>...</td>\n",
       "      <td>...</td>\n",
       "      <td>...</td>\n",
       "    </tr>\n",
       "    <tr>\n",
       "      <th>21685</th>\n",
       "      <td>ditto</td>\n",
       "      <td>\"</td>\n",
       "      <td>0</td>\n",
       "    </tr>\n",
       "    <tr>\n",
       "      <th>373061</th>\n",
       "      <td>inches</td>\n",
       "      <td>\"</td>\n",
       "      <td>0</td>\n",
       "    </tr>\n",
       "    <tr>\n",
       "      <th>155787</th>\n",
       "      <td>ditto</td>\n",
       "      <td>\"</td>\n",
       "      <td>0</td>\n",
       "    </tr>\n",
       "    <tr>\n",
       "      <th>6067</th>\n",
       "      <td>dittomarks</td>\n",
       "      <td>\" \" \"</td>\n",
       "      <td>0</td>\n",
       "    </tr>\n",
       "    <tr>\n",
       "      <th>130662</th>\n",
       "      <td>inches</td>\n",
       "      <td>\"</td>\n",
       "      <td>0</td>\n",
       "    </tr>\n",
       "  </tbody>\n",
       "</table>\n",
       "<p>770361 rows × 3 columns</p>\n",
       "</div>"
      ],
      "text/plain": [
       "            answer                                               clue  \\\n",
       "321600         abe  nickname of the man (born 2/12/1809) who gave ...   \n",
       "52900          oct  mo. when the n.f.l., n.b.a., n.h.l. and m.l.b....   \n",
       "4578        seneca  roman philosopher who said \"life is never inco...   \n",
       "100497       oprah  who said \"i'm black. i don't feel burdened by ...   \n",
       "160005   sotomayor  supreme court justice who once said \"i am a ne...   \n",
       "...            ...                                                ...   \n",
       "21685        ditto                                                  \"   \n",
       "373061      inches                                                  \"   \n",
       "155787       ditto                                                  \"   \n",
       "6067    dittomarks                                              \" \" \"   \n",
       "130662      inches                                                  \"   \n",
       "\n",
       "        clue_tokens  \n",
       "321600           42  \n",
       "52900            34  \n",
       "4578             34  \n",
       "100497           33  \n",
       "160005           31  \n",
       "...             ...  \n",
       "21685             0  \n",
       "373061            0  \n",
       "155787            0  \n",
       "6067              0  \n",
       "130662            0  \n",
       "\n",
       "[770361 rows x 3 columns]"
      ]
     },
     "execution_count": 2,
     "metadata": {},
     "output_type": "execute_result"
    }
   ],
   "source": [
    "from torchtext.data.utils import get_tokenizer\n",
    "tokenizer = get_tokenizer('basic_english')\n",
    "\n",
    "df['clue_tokens'] = df['clue'].apply(lambda x: len(tokenizer(x)))\n",
    "df.sort_values(by='clue_tokens', ascending=False)"
   ]
  },
  {
   "attachments": {},
   "cell_type": "markdown",
   "metadata": {},
   "source": [
    "Interesting that some clues have zero tokens..."
   ]
  },
  {
   "cell_type": "code",
   "execution_count": 3,
   "metadata": {},
   "outputs": [
    {
     "data": {
      "text/html": [
       "<div>\n",
       "<style scoped>\n",
       "    .dataframe tbody tr th:only-of-type {\n",
       "        vertical-align: middle;\n",
       "    }\n",
       "\n",
       "    .dataframe tbody tr th {\n",
       "        vertical-align: top;\n",
       "    }\n",
       "\n",
       "    .dataframe thead th {\n",
       "        text-align: right;\n",
       "    }\n",
       "</style>\n",
       "<table border=\"1\" class=\"dataframe\">\n",
       "  <thead>\n",
       "    <tr style=\"text-align: right;\">\n",
       "      <th></th>\n",
       "      <th>answer</th>\n",
       "      <th>clue</th>\n",
       "      <th>clue_tokens</th>\n",
       "    </tr>\n",
       "  </thead>\n",
       "  <tbody>\n",
       "    <tr>\n",
       "      <th>6067</th>\n",
       "      <td>dittomarks</td>\n",
       "      <td>\" \" \"</td>\n",
       "      <td>0</td>\n",
       "    </tr>\n",
       "    <tr>\n",
       "      <th>21685</th>\n",
       "      <td>ditto</td>\n",
       "      <td>\"</td>\n",
       "      <td>0</td>\n",
       "    </tr>\n",
       "    <tr>\n",
       "      <th>130662</th>\n",
       "      <td>inches</td>\n",
       "      <td>\"</td>\n",
       "      <td>0</td>\n",
       "    </tr>\n",
       "    <tr>\n",
       "      <th>155787</th>\n",
       "      <td>ditto</td>\n",
       "      <td>\"</td>\n",
       "      <td>0</td>\n",
       "    </tr>\n",
       "    <tr>\n",
       "      <th>275873</th>\n",
       "      <td>inches</td>\n",
       "      <td>\"</td>\n",
       "      <td>0</td>\n",
       "    </tr>\n",
       "    <tr>\n",
       "      <th>282584</th>\n",
       "      <td>quotes</td>\n",
       "      <td>\" \"</td>\n",
       "      <td>0</td>\n",
       "    </tr>\n",
       "    <tr>\n",
       "      <th>373061</th>\n",
       "      <td>inches</td>\n",
       "      <td>\"</td>\n",
       "      <td>0</td>\n",
       "    </tr>\n",
       "    <tr>\n",
       "      <th>436433</th>\n",
       "      <td>dittos</td>\n",
       "      <td>\" \" \" \" \"</td>\n",
       "      <td>0</td>\n",
       "    </tr>\n",
       "  </tbody>\n",
       "</table>\n",
       "</div>"
      ],
      "text/plain": [
       "            answer       clue  clue_tokens\n",
       "6067    dittomarks      \" \" \"            0\n",
       "21685        ditto          \"            0\n",
       "130662      inches          \"            0\n",
       "155787       ditto          \"            0\n",
       "275873      inches          \"            0\n",
       "282584      quotes        \" \"            0\n",
       "373061      inches          \"            0\n",
       "436433      dittos  \" \" \" \" \"            0"
      ]
     },
     "execution_count": 3,
     "metadata": {},
     "output_type": "execute_result"
    }
   ],
   "source": [
    "df[df['clue_tokens'] == 0]"
   ]
  },
  {
   "cell_type": "code",
   "execution_count": 4,
   "metadata": {},
   "outputs": [
    {
     "data": {
      "text/plain": [
       "11479"
      ]
     },
     "execution_count": 4,
     "metadata": {},
     "output_type": "execute_result"
    }
   ],
   "source": [
    "len(df) - len(df[df['clue_tokens'] <= 10])"
   ]
  },
  {
   "attachments": {},
   "cell_type": "markdown",
   "metadata": {},
   "source": [
    "So, if we remove all the clues longer than 10 tokens we can shrink our network without losing much data."
   ]
  },
  {
   "cell_type": "code",
   "execution_count": 5,
   "metadata": {},
   "outputs": [
    {
     "name": "stdout",
     "output_type": "stream",
     "text": [
      "770361\n",
      "770353\n",
      "758874\n"
     ]
    }
   ],
   "source": [
    "print(len(df))\n",
    "df = df[df['clue_tokens'] > 0]\n",
    "print(len(df))\n",
    "df = df[df['clue_tokens'] <= 10]\n",
    "print(len(df))"
   ]
  },
  {
   "cell_type": "code",
   "execution_count": 6,
   "metadata": {},
   "outputs": [],
   "source": [
    "df = df.drop(columns=['clue_tokens'])\n",
    "df.to_csv('cleaned_data/dupes_10_or_less_tokens.csv', index=False)"
   ]
  }
 ],
 "metadata": {
  "kernelspec": {
   "display_name": "ml_dev",
   "language": "python",
   "name": "python3"
  },
  "language_info": {
   "codemirror_mode": {
    "name": "ipython",
    "version": 3
   },
   "file_extension": ".py",
   "mimetype": "text/x-python",
   "name": "python",
   "nbconvert_exporter": "python",
   "pygments_lexer": "ipython3",
   "version": "3.9.15"
  },
  "orig_nbformat": 4,
  "vscode": {
   "interpreter": {
    "hash": "42b85a257f5624c76500f25a969244d887270373d8988c1b039e87d3dd5d8436"
   }
  }
 },
 "nbformat": 4,
 "nbformat_minor": 2
}
