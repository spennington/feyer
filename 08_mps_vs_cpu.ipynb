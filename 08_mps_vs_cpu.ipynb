{
 "cells": [
  {
   "cell_type": "markdown",
   "id": "201f9860-fbde-4d5d-8b29-bae766d93c7b",
   "metadata": {},
   "source": [
    "# MPS vs CPU\n",
    "\n",
    "While we wait for our previous model to train, let's explore the performance difference betwen using the `mps` device and the `cpu`."
   ]
  },
  {
   "cell_type": "code",
   "execution_count": 1,
   "id": "0ac9c2f8-37cf-4b9b-8175-310a82f161e7",
   "metadata": {
    "tags": []
   },
   "outputs": [
    {
     "name": "stdout",
     "output_type": "stream",
     "text": [
      "mps_device=device(type='mps'),cpu_device=device(type='mps')\n"
     ]
    }
   ],
   "source": [
    "import matplotlib.pyplot as plt\n",
    "import random\n",
    "import timeit\n",
    "import torch\n",
    "import torch.nn.functional as F\n",
    "\n",
    "%matplotlib inline\n",
    "\n",
    "mps_device = torch.device(\"mps\")\n",
    "cpu_device = torch.device(\"mps\")\n",
    "print(f'{mps_device=},{cpu_device=}')"
   ]
  },
  {
   "cell_type": "code",
   "execution_count": 2,
   "id": "ae159416-eefe-4747-86e2-36a5463811fb",
   "metadata": {
    "tags": []
   },
   "outputs": [
    {
     "data": {
      "text/plain": [
       "0.4119477920000003"
      ]
     },
     "execution_count": 2,
     "metadata": {},
     "output_type": "execute_result"
    }
   ],
   "source": [
    "x = torch.ones(50000, device=\"mps\")\n",
    "time = timeit.timeit(lambda: x * random.randint(0,100), number=10000)\n",
    "time"
   ]
  },
  {
   "cell_type": "code",
   "execution_count": 3,
   "id": "48063f09-b9b5-4657-a896-9da06f8f0864",
   "metadata": {
    "tags": []
   },
   "outputs": [
    {
     "data": {
      "text/plain": [
       "0.1251851249999998"
      ]
     },
     "execution_count": 3,
     "metadata": {},
     "output_type": "execute_result"
    }
   ],
   "source": [
    "x = torch.ones(50000, device=\"cpu\")\n",
    "time = timeit.timeit(lambda: x * random.randint(0,100), number=10000)\n",
    "time"
   ]
  },
  {
   "cell_type": "code",
   "execution_count": 4,
   "id": "5113e70f-c940-47c5-a9e2-c8f16c594827",
   "metadata": {
    "tags": []
   },
   "outputs": [
    {
     "data": {
      "text/plain": [
       "11.150144"
      ]
     },
     "execution_count": 4,
     "metadata": {},
     "output_type": "execute_result"
    }
   ],
   "source": [
    "x = torch.ones(50000000, device=\"mps\")\n",
    "time = timeit.timeit(lambda: x * random.randint(0,100), number=10000)\n",
    "time"
   ]
  },
  {
   "cell_type": "code",
   "execution_count": 5,
   "id": "4442379c-a6f8-4987-893b-51c87cd4c50f",
   "metadata": {
    "tags": []
   },
   "outputs": [
    {
     "data": {
      "text/plain": [
       "78.781756959"
      ]
     },
     "execution_count": 5,
     "metadata": {},
     "output_type": "execute_result"
    }
   ],
   "source": [
    "x = torch.ones(50000000, device=\"cpu\")\n",
    "time = timeit.timeit(lambda: x * random.randint(0,100), number=10000)\n",
    "time"
   ]
  },
  {
   "cell_type": "code",
   "execution_count": 6,
   "id": "6e068e89-3727-45da-95b8-d90f5757856d",
   "metadata": {
    "tags": []
   },
   "outputs": [],
   "source": [
    "vector_exps = torch.linspace(1, 7, 40)\n",
    "vector_sizes = 10**vector_exps\n",
    "vector_sizes = vector_sizes.int()\n",
    "\n",
    "mps_times, cpu_times = [], []\n",
    "\n",
    "for vector_size in vector_sizes:\n",
    "    mps_x = torch.ones(vector_size.item(), device=\"mps\")\n",
    "    mps_times.append(timeit.timeit(lambda: mps_x * random.randint(0,100), number=10000))\n",
    "    \n",
    "    \n",
    "    cpu_x = torch.ones(vector_size.item(), device=\"cpu\")\n",
    "    cpu_times.append(timeit.timeit(lambda: cpu_x * random.randint(0,100), number=10000))"
   ]
  },
  {
   "cell_type": "code",
   "execution_count": 7,
   "id": "31dff9f9-a330-4d35-a857-4983b1b74e2e",
   "metadata": {
    "tags": []
   },
   "outputs": [
    {
     "data": {
      "image/png": "[encoded data removed]",
      "text/plain": [
       "<Figure size 640x480 with 1 Axes>"
      ]
     },
     "metadata": {},
     "output_type": "display_data"
    }
   ],
   "source": [
    "plt.plot(vector_sizes, mps_times, label='mps times')\n",
    "plt.plot(vector_sizes, cpu_times, label='cpu_times')\n",
    "plt.legend()\n",
    "plt.show()"
   ]
  },
  {
   "cell_type": "markdown",
   "id": "43da0f07-7495-4b1d-a9b8-d6c30a712fe0",
   "metadata": {
    "tags": []
   },
   "source": [
    "Looks like we're almost always better off using mps, only on super small vectors is the cpu faster. Good to know!"
   ]
  }
 ],
 "metadata": {
  "kernelspec": {
   "display_name": "Python 3 (ipykernel)",
   "language": "python",
   "name": "python3"
  },
  "language_info": {
   "codemirror_mode": {
    "name": "ipython",
    "version": 3
   },
   "file_extension": ".py",
   "mimetype": "text/x-python",
   "name": "python",
   "nbconvert_exporter": "python",
   "pygments_lexer": "ipython3",
   "version": "3.9.15"
  }
 },
 "nbformat": 4,
 "nbformat_minor": 5
}
