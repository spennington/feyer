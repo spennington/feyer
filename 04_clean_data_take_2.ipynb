{
 "cells": [
  {
   "cell_type": "markdown",
   "id": "3f6c6faf-1c64-41ce-93e3-d547ebcc48e4",
   "metadata": {},
   "source": [
    "# Data Cleanup, Take 2\n",
    "\n",
    "Based on the exploration in [03_data_exploration_take_2.ipynb](03_data_exploration_take_2.ipynb) we need to:\n",
    "* Remove reference clues\n",
    "* Remove clues that refer to the \"notepad\"\n",
    "* Remove entity encoded clues, HTML tags, and bracket clues\n",
    "* Strip leading asteriscks, but keep asterisck only clues\n",
    "* Strip leading plus, but keep plus only plus clues or other clues that contain a + (ex. 5 + 5)\n",
    "* Strip leading angle clues which are actually reference clues\n",
    "* Cheat for now and just ignore anything else with characters we don't like\n",
    "* Remove answers that don't contain only letters"
   ]
  },
  {
   "cell_type": "code",
   "execution_count": 1,
   "id": "1eaeac92-0aa7-4f10-9cf4-865d45159d4d",
   "metadata": {
    "tags": []
   },
   "outputs": [],
   "source": [
    "import pandas as pd\n",
    "import re\n",
    "\n",
    "df = pd.read_csv(\"cleaned_data/clean_1.csv\", keep_default_na=False)\n",
    "\n",
    "reference_clues = r'[0-9]+[-\\s]+(?:down|across)+\\b'\n",
    "df = df[~df['clue'].str.contains(reference_clues)]\n",
    "\n",
    "notepad_clues = r'see notepad'\n",
    "df = df[~df['clue'].str.contains(notepad_clues)]\n",
    "\n",
    "entity_encoding = r'&[a-z]+;'\n",
    "df = df[~df['clue'].str.contains(entity_encoding)]\n",
    "entity_encoding = r'&#[0-9]+;'\n",
    "df = df[~df['clue'].str.contains(entity_encoding)]\n",
    "\n",
    "html_tags = r'<[a-z]+>'\n",
    "df = df[~df['clue'].str.contains(html_tags)]\n",
    "\n",
    "bracket_clues = r'\\[.+\\]'\n",
    "df = df[~df['clue'].str.contains(bracket_clues)]\n",
    "\n",
    "df['clue'] = df['clue'].apply(lambda x: x.lstrip('*') if x != '*' else x)\n",
    "\n",
    "leading_plus = r'^\\+[a-z]'\n",
    "df['clue'] = df['clue'].apply(lambda x: x.lstrip('+') if re.match(leading_plus, x) else x)\n",
    "\n",
    "leading_angle = r'^<\\s.+'\n",
    "df = df[~df['clue'].str.contains(leading_angle)]\n",
    "\n",
    "allowed_chars = r'^[a-z0-9\\s\\.\"\\_!\\-\\'\\@\\(\\)#=%$/\\+]+'\n",
    "df = df[df['clue'].str.contains(allowed_chars)]"
   ]
  },
  {
   "cell_type": "code",
   "execution_count": 2,
   "id": "84fe39b3-c8c9-4d80-ad39-a005b499f29d",
   "metadata": {
    "tags": []
   },
   "outputs": [
    {
     "data": {
      "text/html": [
       "<div>\n",
       "<style scoped>\n",
       "    .dataframe tbody tr th:only-of-type {\n",
       "        vertical-align: middle;\n",
       "    }\n",
       "\n",
       "    .dataframe tbody tr th {\n",
       "        vertical-align: top;\n",
       "    }\n",
       "\n",
       "    .dataframe thead th {\n",
       "        text-align: right;\n",
       "    }\n",
       "</style>\n",
       "<table border=\"1\" class=\"dataframe\">\n",
       "  <thead>\n",
       "    <tr style=\"text-align: right;\">\n",
       "      <th></th>\n",
       "      <th>answer</th>\n",
       "      <th>clue</th>\n",
       "    </tr>\n",
       "  </thead>\n",
       "  <tbody>\n",
       "  </tbody>\n",
       "</table>\n",
       "</div>"
      ],
      "text/plain": [
       "Empty DataFrame\n",
       "Columns: [answer, clue]\n",
       "Index: []"
      ]
     },
     "execution_count": 2,
     "metadata": {},
     "output_type": "execute_result"
    }
   ],
   "source": [
    "allowed_chars = r'^[a-z0-9\\s\\.\"\\_!\\-\\'\\@\\(\\)#=%$/\\+]+'\n",
    "mask = ~df['clue'].str.match(allowed_chars)\n",
    "df[mask]"
   ]
  },
  {
   "cell_type": "code",
   "execution_count": 3,
   "id": "166cc03a-1283-4759-a3e9-99f797a54d90",
   "metadata": {
    "tags": []
   },
   "outputs": [
    {
     "data": {
      "text/html": [
       "<div>\n",
       "<style scoped>\n",
       "    .dataframe tbody tr th:only-of-type {\n",
       "        vertical-align: middle;\n",
       "    }\n",
       "\n",
       "    .dataframe tbody tr th {\n",
       "        vertical-align: top;\n",
       "    }\n",
       "\n",
       "    .dataframe thead th {\n",
       "        text-align: right;\n",
       "    }\n",
       "</style>\n",
       "<table border=\"1\" class=\"dataframe\">\n",
       "  <thead>\n",
       "    <tr style=\"text-align: right;\">\n",
       "      <th></th>\n",
       "      <th>answer</th>\n",
       "      <th>clue</th>\n",
       "    </tr>\n",
       "  </thead>\n",
       "  <tbody>\n",
       "    <tr>\n",
       "      <th>0</th>\n",
       "      <td>pat</td>\n",
       "      <td>action done while saying \"good dog\"</td>\n",
       "    </tr>\n",
       "    <tr>\n",
       "      <th>1</th>\n",
       "      <td>rascals</td>\n",
       "      <td>mischief-makers</td>\n",
       "    </tr>\n",
       "    <tr>\n",
       "      <th>2</th>\n",
       "      <td>pen</td>\n",
       "      <td>it might click for a writer</td>\n",
       "    </tr>\n",
       "    <tr>\n",
       "      <th>3</th>\n",
       "      <td>sep</td>\n",
       "      <td>fall mo.</td>\n",
       "    </tr>\n",
       "    <tr>\n",
       "      <th>4</th>\n",
       "      <td>eco</td>\n",
       "      <td>kind to mother nature</td>\n",
       "    </tr>\n",
       "    <tr>\n",
       "      <th>...</th>\n",
       "      <td>...</td>\n",
       "      <td>...</td>\n",
       "    </tr>\n",
       "    <tr>\n",
       "      <th>780300</th>\n",
       "      <td>nat</td>\n",
       "      <td>actor pendleton</td>\n",
       "    </tr>\n",
       "    <tr>\n",
       "      <th>780301</th>\n",
       "      <td>shred</td>\n",
       "      <td>bit</td>\n",
       "    </tr>\n",
       "    <tr>\n",
       "      <th>780302</th>\n",
       "      <td>nea</td>\n",
       "      <td>teachers' org.</td>\n",
       "    </tr>\n",
       "    <tr>\n",
       "      <th>780303</th>\n",
       "      <td>beg</td>\n",
       "      <td>petition</td>\n",
       "    </tr>\n",
       "    <tr>\n",
       "      <th>780304</th>\n",
       "      <td>sis</td>\n",
       "      <td>family girl</td>\n",
       "    </tr>\n",
       "  </tbody>\n",
       "</table>\n",
       "<p>770385 rows × 2 columns</p>\n",
       "</div>"
      ],
      "text/plain": [
       "         answer                                 clue\n",
       "0           pat  action done while saying \"good dog\"\n",
       "1       rascals                      mischief-makers\n",
       "2           pen          it might click for a writer\n",
       "3           sep                             fall mo.\n",
       "4           eco                kind to mother nature\n",
       "...         ...                                  ...\n",
       "780300      nat                      actor pendleton\n",
       "780301    shred                                  bit\n",
       "780302      nea                       teachers' org.\n",
       "780303      beg                             petition\n",
       "780304      sis                          family girl\n",
       "\n",
       "[770385 rows x 2 columns]"
      ]
     },
     "execution_count": 3,
     "metadata": {},
     "output_type": "execute_result"
    }
   ],
   "source": [
    "df"
   ]
  },
  {
   "cell_type": "code",
   "execution_count": 4,
   "id": "5efe9a35-b442-47bf-a225-49c7426ea38c",
   "metadata": {},
   "outputs": [],
   "source": [
    "df = df[df['answer'].str.contains(r'^[a-z]+$')]"
   ]
  },
  {
   "cell_type": "code",
   "execution_count": 5,
   "id": "ff6d52c8-0726-4a89-b9b8-efe50d9cb059",
   "metadata": {
    "tags": []
   },
   "outputs": [],
   "source": [
    "df.to_csv('cleaned_data/clean_2.csv', index=False)"
   ]
  }
 ],
 "metadata": {
  "kernelspec": {
   "display_name": "Python 3 (ipykernel)",
   "language": "python",
   "name": "python3"
  },
  "language_info": {
   "codemirror_mode": {
    "name": "ipython",
    "version": 3
   },
   "file_extension": ".py",
   "mimetype": "text/x-python",
   "name": "python",
   "nbconvert_exporter": "python",
   "pygments_lexer": "ipython3",
   "version": "3.9.15"
  }
 },
 "nbformat": 4,
 "nbformat_minor": 5
}
