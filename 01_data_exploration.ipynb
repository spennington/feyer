{
 "cells": [
  {
   "cell_type": "markdown",
   "id": "ecb18ab4-c649-4d43-963b-58d35450d267",
   "metadata": {},
   "source": [
    "# Data Exploration\n",
    "\n",
    "Was able to find data on NYT crosswords which is what we will focus on. Data has been [uploaded to Google Drive](https://drive.google.com/drive/folders/101KDJ5dl_cSPPZPBMBKIpy5-qbN6HkBN?usp=share_link), but is intentionally private (for now).\n",
    "\n",
    "The first set of data we will look at is a collection of clues and their respective answers."
   ]
  },
  {
   "cell_type": "code",
   "execution_count": 99,
   "id": "e2ded2b1-ea06-417b-83e0-fe8b6a9f4cda",
   "metadata": {
    "tags": []
   },
   "outputs": [
    {
     "data": {
      "text/html": [
       "<div>\n",
       "<style scoped>\n",
       "    .dataframe tbody tr th:only-of-type {\n",
       "        vertical-align: middle;\n",
       "    }\n",
       "\n",
       "    .dataframe tbody tr th {\n",
       "        vertical-align: top;\n",
       "    }\n",
       "\n",
       "    .dataframe thead th {\n",
       "        text-align: right;\n",
       "    }\n",
       "</style>\n",
       "<table border=\"1\" class=\"dataframe\">\n",
       "  <thead>\n",
       "    <tr style=\"text-align: right;\">\n",
       "      <th></th>\n",
       "      <th>Date</th>\n",
       "      <th>Word</th>\n",
       "      <th>Clue</th>\n",
       "    </tr>\n",
       "  </thead>\n",
       "  <tbody>\n",
       "    <tr>\n",
       "      <th>0</th>\n",
       "      <td>10/31/2021</td>\n",
       "      <td>PAT</td>\n",
       "      <td>Action done while saying \"Good dog\"</td>\n",
       "    </tr>\n",
       "    <tr>\n",
       "      <th>1</th>\n",
       "      <td>10/31/2021</td>\n",
       "      <td>RASCALS</td>\n",
       "      <td>Mischief-makers</td>\n",
       "    </tr>\n",
       "    <tr>\n",
       "      <th>2</th>\n",
       "      <td>10/31/2021</td>\n",
       "      <td>PEN</td>\n",
       "      <td>It might click for a writer</td>\n",
       "    </tr>\n",
       "    <tr>\n",
       "      <th>3</th>\n",
       "      <td>10/31/2021</td>\n",
       "      <td>SEP</td>\n",
       "      <td>Fall mo.</td>\n",
       "    </tr>\n",
       "    <tr>\n",
       "      <th>4</th>\n",
       "      <td>10/31/2021</td>\n",
       "      <td>ECO</td>\n",
       "      <td>Kind to Mother Nature</td>\n",
       "    </tr>\n",
       "    <tr>\n",
       "      <th>...</th>\n",
       "      <td>...</td>\n",
       "      <td>...</td>\n",
       "      <td>...</td>\n",
       "    </tr>\n",
       "    <tr>\n",
       "      <th>781568</th>\n",
       "      <td>11/21/1993</td>\n",
       "      <td>NAT</td>\n",
       "      <td>Actor Pendleton</td>\n",
       "    </tr>\n",
       "    <tr>\n",
       "      <th>781569</th>\n",
       "      <td>11/21/1993</td>\n",
       "      <td>SHRED</td>\n",
       "      <td>Bit</td>\n",
       "    </tr>\n",
       "    <tr>\n",
       "      <th>781570</th>\n",
       "      <td>11/21/1993</td>\n",
       "      <td>NEA</td>\n",
       "      <td>Teachers' org.</td>\n",
       "    </tr>\n",
       "    <tr>\n",
       "      <th>781571</th>\n",
       "      <td>11/21/1993</td>\n",
       "      <td>BEG</td>\n",
       "      <td>Petition</td>\n",
       "    </tr>\n",
       "    <tr>\n",
       "      <th>781572</th>\n",
       "      <td>11/21/1993</td>\n",
       "      <td>SIS</td>\n",
       "      <td>Family girl</td>\n",
       "    </tr>\n",
       "  </tbody>\n",
       "</table>\n",
       "<p>781573 rows × 3 columns</p>\n",
       "</div>"
      ],
      "text/plain": [
       "              Date     Word                                 Clue\n",
       "0       10/31/2021      PAT  Action done while saying \"Good dog\"\n",
       "1       10/31/2021  RASCALS                      Mischief-makers\n",
       "2       10/31/2021      PEN          It might click for a writer\n",
       "3       10/31/2021      SEP                             Fall mo.\n",
       "4       10/31/2021      ECO                Kind to Mother Nature\n",
       "...            ...      ...                                  ...\n",
       "781568  11/21/1993      NAT                      Actor Pendleton\n",
       "781569  11/21/1993    SHRED                                  Bit\n",
       "781570  11/21/1993      NEA                       Teachers' org.\n",
       "781571  11/21/1993      BEG                             Petition\n",
       "781572  11/21/1993      SIS                          Family girl\n",
       "\n",
       "[781573 rows x 3 columns]"
      ]
     },
     "execution_count": 99,
     "metadata": {},
     "output_type": "execute_result"
    }
   ],
   "source": [
    "import pandas as pd\n",
    "\n",
    "df = pd.read_csv(\"data/nytcrosswords.csv\")\n",
    "df"
   ]
  },
  {
   "cell_type": "code",
   "execution_count": 52,
   "id": "d3ea9248-6a46-4cbe-ba14-fd42f61d6902",
   "metadata": {
    "tags": []
   },
   "outputs": [
    {
     "data": {
      "text/html": [
       "<div>\n",
       "<style scoped>\n",
       "    .dataframe tbody tr th:only-of-type {\n",
       "        vertical-align: middle;\n",
       "    }\n",
       "\n",
       "    .dataframe tbody tr th {\n",
       "        vertical-align: top;\n",
       "    }\n",
       "\n",
       "    .dataframe thead th {\n",
       "        text-align: right;\n",
       "    }\n",
       "</style>\n",
       "<table border=\"1\" class=\"dataframe\">\n",
       "  <thead>\n",
       "    <tr style=\"text-align: right;\">\n",
       "      <th></th>\n",
       "      <th>Date</th>\n",
       "      <th>Word</th>\n",
       "      <th>Clue</th>\n",
       "    </tr>\n",
       "  </thead>\n",
       "  <tbody>\n",
       "    <tr>\n",
       "      <th>355023</th>\n",
       "      <td>2/12/2009</td>\n",
       "      <td>ABRAHAMLINCOLN</td>\n",
       "      <td>Notable born 2/12/1809</td>\n",
       "    </tr>\n",
       "    <tr>\n",
       "      <th>691197</th>\n",
       "      <td>2/12/1997</td>\n",
       "      <td>ABRAHAMLINCOLN</td>\n",
       "      <td>Subject of Copland's \"Portrait\"</td>\n",
       "    </tr>\n",
       "    <tr>\n",
       "      <th>703805</th>\n",
       "      <td>9/1/1996</td>\n",
       "      <td>ABRAHAMLINCOLN</td>\n",
       "      <td>\"If I were two-faced, would I be wearing this ...</td>\n",
       "    </tr>\n",
       "    <tr>\n",
       "      <th>739500</th>\n",
       "      <td>5/21/1995</td>\n",
       "      <td>ABRAHAMLINCOLN</td>\n",
       "      <td>==}:?�]]</td>\n",
       "    </tr>\n",
       "  </tbody>\n",
       "</table>\n",
       "</div>"
      ],
      "text/plain": [
       "             Date            Word  \\\n",
       "355023  2/12/2009  ABRAHAMLINCOLN   \n",
       "691197  2/12/1997  ABRAHAMLINCOLN   \n",
       "703805   9/1/1996  ABRAHAMLINCOLN   \n",
       "739500  5/21/1995  ABRAHAMLINCOLN   \n",
       "\n",
       "                                                     Clue  \n",
       "355023                             Notable born 2/12/1809  \n",
       "691197                    Subject of Copland's \"Portrait\"  \n",
       "703805  \"If I were two-faced, would I be wearing this ...  \n",
       "739500                                           ==}:?�]]  "
      ]
     },
     "execution_count": 52,
     "metadata": {},
     "output_type": "execute_result"
    }
   ],
   "source": [
    "df[df['Word'] == 'ABRAHAMLINCOLN']"
   ]
  },
  {
   "cell_type": "markdown",
   "id": "e69068d7-6d43-4e59-be2f-4bd1e721d6c4",
   "metadata": {},
   "source": [
    "## Look for bad data\n",
    "Let's look for missing data, or other weirdness we want to remove from the dataset. We can start with the obvious: empty values."
   ]
  },
  {
   "cell_type": "code",
   "execution_count": 2,
   "id": "7a8439bd-95c2-417f-a444-7512cefbb399",
   "metadata": {
    "tags": []
   },
   "outputs": [],
   "source": [
    "\n",
    "df['word_length'] = df['Word'].apply(lambda x: len(str(x).strip()))\n",
    "df['clue_length'] = df['Clue'].apply(lambda x: len(str(x).strip()))"
   ]
  },
  {
   "cell_type": "code",
   "execution_count": 3,
   "id": "f30520eb-540e-41e9-a6c7-f0104ecc3a2e",
   "metadata": {
    "tags": []
   },
   "outputs": [
    {
     "data": {
      "text/html": [
       "<div>\n",
       "<style scoped>\n",
       "    .dataframe tbody tr th:only-of-type {\n",
       "        vertical-align: middle;\n",
       "    }\n",
       "\n",
       "    .dataframe tbody tr th {\n",
       "        vertical-align: top;\n",
       "    }\n",
       "\n",
       "    .dataframe thead th {\n",
       "        text-align: right;\n",
       "    }\n",
       "</style>\n",
       "<table border=\"1\" class=\"dataframe\">\n",
       "  <thead>\n",
       "    <tr style=\"text-align: right;\">\n",
       "      <th></th>\n",
       "      <th>Date</th>\n",
       "      <th>Word</th>\n",
       "      <th>Clue</th>\n",
       "      <th>word_length</th>\n",
       "      <th>clue_length</th>\n",
       "    </tr>\n",
       "  </thead>\n",
       "  <tbody>\n",
       "    <tr>\n",
       "      <th>223435</th>\n",
       "      <td>10/31/2013</td>\n",
       "      <td></td>\n",
       "      <td>64-Across, in 23-Down</td>\n",
       "      <td>0</td>\n",
       "      <td>21</td>\n",
       "    </tr>\n",
       "  </tbody>\n",
       "</table>\n",
       "</div>"
      ],
      "text/plain": [
       "              Date Word                   Clue  word_length  clue_length\n",
       "223435  10/31/2013       64-Across, in 23-Down            0           21"
      ]
     },
     "execution_count": 3,
     "metadata": {},
     "output_type": "execute_result"
    }
   ],
   "source": [
    "df[df['word_length'] <= 1]"
   ]
  },
  {
   "cell_type": "code",
   "execution_count": 4,
   "id": "d307008c-7989-4a9f-9c14-b42b6f5b475a",
   "metadata": {
    "tags": []
   },
   "outputs": [
    {
     "data": {
      "text/html": [
       "<div>\n",
       "<style scoped>\n",
       "    .dataframe tbody tr th:only-of-type {\n",
       "        vertical-align: middle;\n",
       "    }\n",
       "\n",
       "    .dataframe tbody tr th {\n",
       "        vertical-align: top;\n",
       "    }\n",
       "\n",
       "    .dataframe thead th {\n",
       "        text-align: right;\n",
       "    }\n",
       "</style>\n",
       "<table border=\"1\" class=\"dataframe\">\n",
       "  <thead>\n",
       "    <tr style=\"text-align: right;\">\n",
       "      <th></th>\n",
       "      <th>Date</th>\n",
       "      <th>Word</th>\n",
       "      <th>Clue</th>\n",
       "      <th>word_length</th>\n",
       "      <th>clue_length</th>\n",
       "    </tr>\n",
       "  </thead>\n",
       "  <tbody>\n",
       "  </tbody>\n",
       "</table>\n",
       "</div>"
      ],
      "text/plain": [
       "Empty DataFrame\n",
       "Columns: [Date, Word, Clue, word_length, clue_length]\n",
       "Index: []"
      ]
     },
     "execution_count": 4,
     "metadata": {},
     "output_type": "execute_result"
    }
   ],
   "source": [
    "df[df['clue_length'] <= 0]"
   ]
  },
  {
   "cell_type": "code",
   "execution_count": 5,
   "id": "405d83f6-39e5-41dd-aa52-e095cb5bc517",
   "metadata": {
    "tags": []
   },
   "outputs": [
    {
     "name": "stdout",
     "output_type": "stream",
     "text": [
      "Number of nulls: 34\n"
     ]
    },
    {
     "data": {
      "text/html": [
       "<div>\n",
       "<style scoped>\n",
       "    .dataframe tbody tr th:only-of-type {\n",
       "        vertical-align: middle;\n",
       "    }\n",
       "\n",
       "    .dataframe tbody tr th {\n",
       "        vertical-align: top;\n",
       "    }\n",
       "\n",
       "    .dataframe thead th {\n",
       "        text-align: right;\n",
       "    }\n",
       "</style>\n",
       "<table border=\"1\" class=\"dataframe\">\n",
       "  <thead>\n",
       "    <tr style=\"text-align: right;\">\n",
       "      <th></th>\n",
       "      <th>Date</th>\n",
       "      <th>Word</th>\n",
       "      <th>Clue</th>\n",
       "      <th>word_length</th>\n",
       "      <th>clue_length</th>\n",
       "    </tr>\n",
       "  </thead>\n",
       "  <tbody>\n",
       "    <tr>\n",
       "      <th>24006</th>\n",
       "      <td>12/24/2020</td>\n",
       "      <td>NaN</td>\n",
       "      <td>Zero</td>\n",
       "      <td>3</td>\n",
       "      <td>4</td>\n",
       "    </tr>\n",
       "    <tr>\n",
       "      <th>43275</th>\n",
       "      <td>4/17/2020</td>\n",
       "      <td>NaN</td>\n",
       "      <td>Empty</td>\n",
       "      <td>3</td>\n",
       "      <td>5</td>\n",
       "    </tr>\n",
       "    <tr>\n",
       "      <th>67323</th>\n",
       "      <td>6/7/2019</td>\n",
       "      <td>NaN</td>\n",
       "      <td>Of no value</td>\n",
       "      <td>3</td>\n",
       "      <td>11</td>\n",
       "    </tr>\n",
       "    <tr>\n",
       "      <th>93805</th>\n",
       "      <td>6/24/2018</td>\n",
       "      <td>NaN</td>\n",
       "      <td>No longer in force</td>\n",
       "      <td>3</td>\n",
       "      <td>18</td>\n",
       "    </tr>\n",
       "    <tr>\n",
       "      <th>141809</th>\n",
       "      <td>10/1/2016</td>\n",
       "      <td>NaN</td>\n",
       "      <td>{ }, in mathematics</td>\n",
       "      <td>3</td>\n",
       "      <td>19</td>\n",
       "    </tr>\n",
       "  </tbody>\n",
       "</table>\n",
       "</div>"
      ],
      "text/plain": [
       "              Date Word                 Clue  word_length  clue_length\n",
       "24006   12/24/2020  NaN                 Zero            3            4\n",
       "43275    4/17/2020  NaN                Empty            3            5\n",
       "67323     6/7/2019  NaN          Of no value            3           11\n",
       "93805    6/24/2018  NaN   No longer in force            3           18\n",
       "141809   10/1/2016  NaN  { }, in mathematics            3           19"
      ]
     },
     "execution_count": 5,
     "metadata": {},
     "output_type": "execute_result"
    }
   ],
   "source": [
    "print(f'Number of nulls: {len(df[df[\"Word\"].isnull()])}')\n",
    "df[df[\"Word\"].isnull()].head()"
   ]
  },
  {
   "cell_type": "code",
   "execution_count": 6,
   "id": "7332f801-e005-491f-ae97-07c464a8b670",
   "metadata": {
    "tags": []
   },
   "outputs": [
    {
     "name": "stdout",
     "output_type": "stream",
     "text": [
      "Number of nulls: 0\n"
     ]
    },
    {
     "data": {
      "text/html": [
       "<div>\n",
       "<style scoped>\n",
       "    .dataframe tbody tr th:only-of-type {\n",
       "        vertical-align: middle;\n",
       "    }\n",
       "\n",
       "    .dataframe tbody tr th {\n",
       "        vertical-align: top;\n",
       "    }\n",
       "\n",
       "    .dataframe thead th {\n",
       "        text-align: right;\n",
       "    }\n",
       "</style>\n",
       "<table border=\"1\" class=\"dataframe\">\n",
       "  <thead>\n",
       "    <tr style=\"text-align: right;\">\n",
       "      <th></th>\n",
       "      <th>Date</th>\n",
       "      <th>Word</th>\n",
       "      <th>Clue</th>\n",
       "      <th>word_length</th>\n",
       "      <th>clue_length</th>\n",
       "    </tr>\n",
       "  </thead>\n",
       "  <tbody>\n",
       "  </tbody>\n",
       "</table>\n",
       "</div>"
      ],
      "text/plain": [
       "Empty DataFrame\n",
       "Columns: [Date, Word, Clue, word_length, clue_length]\n",
       "Index: []"
      ]
     },
     "execution_count": 6,
     "metadata": {},
     "output_type": "execute_result"
    }
   ],
   "source": [
    "print(f'Number of nulls: {len(df[df[\"Clue\"].isnull()])}')\n",
    "df[df[\"Clue\"].isnull()].head()"
   ]
  },
  {
   "cell_type": "markdown",
   "id": "8972bcab-9cab-4e72-9f81-57809450b26b",
   "metadata": {},
   "source": [
    "After grepping the csv manually it turns out that these `NaN` values are actually the string \"NULL\" in the dataset which causes parsing issues. Something we'll have to solve with the cleanup.\n",
    "\n",
    "So far, we know that we must:\n",
    "1. Remove empty rows\n",
    "2. Replace `NaN` with \"NULL\"\n",
    "\n",
    "Next, let's make sure that we don't have any weird characters."
   ]
  },
  {
   "cell_type": "code",
   "execution_count": 7,
   "id": "ab416d1b-a371-4c8e-82bb-1c151016cadc",
   "metadata": {
    "tags": []
   },
   "outputs": [
    {
     "data": {
      "text/html": [
       "<div>\n",
       "<style scoped>\n",
       "    .dataframe tbody tr th:only-of-type {\n",
       "        vertical-align: middle;\n",
       "    }\n",
       "\n",
       "    .dataframe tbody tr th {\n",
       "        vertical-align: top;\n",
       "    }\n",
       "\n",
       "    .dataframe thead th {\n",
       "        text-align: right;\n",
       "    }\n",
       "</style>\n",
       "<table border=\"1\" class=\"dataframe\">\n",
       "  <thead>\n",
       "    <tr style=\"text-align: right;\">\n",
       "      <th></th>\n",
       "      <th>Date</th>\n",
       "      <th>Word</th>\n",
       "      <th>Clue</th>\n",
       "    </tr>\n",
       "  </thead>\n",
       "  <tbody>\n",
       "    <tr>\n",
       "      <th>80</th>\n",
       "      <td>10/31/2021</td>\n",
       "      <td>PEPE</td>\n",
       "      <td>Nickname for Josﺅﺟﺛ</td>\n",
       "    </tr>\n",
       "    <tr>\n",
       "      <th>396</th>\n",
       "      <td>10/27/2021</td>\n",
       "      <td>ONE</td>\n",
       "      <td>What the tangent of 45ﺅﺟﺛ is equal to</td>\n",
       "    </tr>\n",
       "    <tr>\n",
       "      <th>465</th>\n",
       "      <td>10/26/2021</td>\n",
       "      <td>SNERT</td>\n",
       "      <td>Hﺅﺟﺛgar the Horrible's dog</td>\n",
       "    </tr>\n",
       "    <tr>\n",
       "      <th>812</th>\n",
       "      <td>10/21/2021</td>\n",
       "      <td>STAG</td>\n",
       "      <td>Animal on a Jﺅﺟﺛgermeister bottle</td>\n",
       "    </tr>\n",
       "    <tr>\n",
       "      <th>981</th>\n",
       "      <td>10/19/2021</td>\n",
       "      <td>ACUTEACCENT</td>\n",
       "      <td>Bit of dﺅﺟﺛcor?</td>\n",
       "    </tr>\n",
       "    <tr>\n",
       "      <th>...</th>\n",
       "      <td>...</td>\n",
       "      <td>...</td>\n",
       "      <td>...</td>\n",
       "    </tr>\n",
       "    <tr>\n",
       "      <th>781041</th>\n",
       "      <td>11/27/1993</td>\n",
       "      <td>DEBASER</td>\n",
       "      <td>He?ﺅﺟﺛll humiliate you</td>\n",
       "    </tr>\n",
       "    <tr>\n",
       "      <th>781050</th>\n",
       "      <td>11/27/1993</td>\n",
       "      <td>ASI</td>\n",
       "      <td>?ﺅﺟﺛ___ was saying...?ﺅﺟﺛ</td>\n",
       "    </tr>\n",
       "    <tr>\n",
       "      <th>781054</th>\n",
       "      <td>11/27/1993</td>\n",
       "      <td>NOTEPAD</td>\n",
       "      <td>Reporter?ﺅﺟﺛs book</td>\n",
       "    </tr>\n",
       "    <tr>\n",
       "      <th>781062</th>\n",
       "      <td>11/27/1993</td>\n",
       "      <td>SAWDUST</td>\n",
       "      <td>Carpenter?ﺅﺟﺛs floor cover</td>\n",
       "    </tr>\n",
       "    <tr>\n",
       "      <th>781072</th>\n",
       "      <td>11/27/1993</td>\n",
       "      <td>LOGO</td>\n",
       "      <td>NBC?ﺅﺟﺛs peacock, e.g.</td>\n",
       "    </tr>\n",
       "  </tbody>\n",
       "</table>\n",
       "<p>1280 rows × 3 columns</p>\n",
       "</div>"
      ],
      "text/plain": [
       "              Date         Word                                   Clue\n",
       "80      10/31/2021         PEPE                    Nickname for Josﺅﺟﺛ\n",
       "396     10/27/2021          ONE  What the tangent of 45ﺅﺟﺛ is equal to\n",
       "465     10/26/2021        SNERT             Hﺅﺟﺛgar the Horrible's dog\n",
       "812     10/21/2021         STAG      Animal on a Jﺅﺟﺛgermeister bottle\n",
       "981     10/19/2021  ACUTEACCENT                        Bit of dﺅﺟﺛcor?\n",
       "...            ...          ...                                    ...\n",
       "781041  11/27/1993      DEBASER                 He?ﺅﺟﺛll humiliate you\n",
       "781050  11/27/1993          ASI              ?ﺅﺟﺛ___ was saying...?ﺅﺟﺛ\n",
       "781054  11/27/1993      NOTEPAD                     Reporter?ﺅﺟﺛs book\n",
       "781062  11/27/1993      SAWDUST             Carpenter?ﺅﺟﺛs floor cover\n",
       "781072  11/27/1993         LOGO                 NBC?ﺅﺟﺛs peacock, e.g.\n",
       "\n",
       "[1280 rows x 3 columns]"
      ]
     },
     "execution_count": 21,
     "metadata": {},
     "output_type": "execute_result"
    }
   ],
   "source": [
    "allowed_chars = r'^[A-Za-z\\s\\.\"-_!]+$'\n",
    "mask = ~df['Clue'].str.contains(allowed_chars)\n",
    "df[mask]"
   ]
  },
  {
   "cell_type": "markdown",
   "id": "d919ec28-4c15-49a0-b75d-06ecdc3df882",
   "metadata": {
    "tags": []
   },
   "source": [
    "Seems like we have an encoding issue. Let's dig into that."
   ]
  },
  {
   "cell_type": "code",
   "execution_count": 76,
   "id": "cec9c2ef-e29c-47a3-ae46-37c76b1be861",
   "metadata": {
    "tags": []
   },
   "outputs": [
    {
     "name": "stdout",
     "output_type": "stream",
     "text": [
      "{'encoding': 'utf-8', 'confidence': 0.99, 'language': ''}\n"
     ]
    }
   ],
   "source": [
    "import chardet\n",
    "with open(\"data/nytcrosswords.csv\", 'rb') as file:\n",
    "    print(chardet.detect(file.read()))"
   ]
  },
  {
   "cell_type": "markdown",
   "id": "a0fb8f6f-4718-487a-a5dc-4ce7d45d2b35",
   "metadata": {},
   "source": [
    "We know the encoding isn't utf-8, so let's keep trying."
   ]
  },
  {
   "cell_type": "code",
   "execution_count": 12,
   "id": "10f5fc35-ae2a-49f0-83da-01bdaa2979e0",
   "metadata": {
    "tags": []
   },
   "outputs": [
    {
     "name": "stdout",
     "output_type": "stream",
     "text": [
      "<_io.TextIOWrapper name='data/nytcrosswords.csv' mode='r' encoding='UTF-8'>\n"
     ]
    }
   ],
   "source": [
    "with open(\"data/nytcrosswords.csv\") as file:\n",
    "    print(file)"
   ]
  },
  {
   "cell_type": "markdown",
   "id": "bcc19cdc-83ff-45f3-a637-518b2a16b625",
   "metadata": {},
   "source": [
    "Same problem. Found another library that might be helpful - couldn't get this installed with conda, so had to do a `pip install charamel`."
   ]
  },
  {
   "cell_type": "code",
   "execution_count": 38,
   "id": "9967ddc5-133d-44da-aac9-4cd090b51b12",
   "metadata": {
    "tags": []
   },
   "outputs": [
    {
     "name": "stdout",
     "output_type": "stream",
     "text": [
      "[(<Encoding.CP_1006: 'cp1006'>, 0.9521461826551444), (<Encoding.CP_864: 'cp864'>, 0.9462450387005286), (<Encoding.UTF_7: 'utf_7'>, 0.9452766125829656), (<Encoding.ISO_2022_JP: 'iso2022_jp'>, 0.9226919055739324), (<Encoding.ISO_2022_KR: 'iso2022_kr'>, 0.9222854034560479), (<Encoding.ASCII: 'ascii'>, 0.9220496290394135), (<Encoding.ISO_2022_JP_2004: 'iso2022_jp_2004'>, 0.92202299533934), (<Encoding.ISO_2022_JP_3: 'iso2022_jp_3'>, 0.9219871621048285), (<Encoding.HZ: 'hz'>, 0.9218368758036212), (<Encoding.ISO_2022_JP_2: 'iso2022_jp_2'>, 0.9207895019977104)]\n"
     ]
    }
   ],
   "source": [
    "from charamel import Detector\n",
    "detector = Detector()\n",
    "with open(\"data/nytcrosswords.csv\") as file:\n",
    "    print(detector.probe(file.read(), top=10))"
   ]
  },
  {
   "cell_type": "markdown",
   "id": "aa5cd043-c2db-4980-837b-600c57ad9c72",
   "metadata": {
    "tags": []
   },
   "source": [
    "Progress! Let's try with these encodings."
   ]
  },
  {
   "cell_type": "code",
   "execution_count": 78,
   "id": "73d6803a-2564-456d-b3e8-35f245ebb641",
   "metadata": {
    "tags": []
   },
   "outputs": [
    {
     "data": {
      "text/html": [
       "<div>\n",
       "<style scoped>\n",
       "    .dataframe tbody tr th:only-of-type {\n",
       "        vertical-align: middle;\n",
       "    }\n",
       "\n",
       "    .dataframe tbody tr th {\n",
       "        vertical-align: top;\n",
       "    }\n",
       "\n",
       "    .dataframe thead th {\n",
       "        text-align: right;\n",
       "    }\n",
       "</style>\n",
       "<table border=\"1\" class=\"dataframe\">\n",
       "  <thead>\n",
       "    <tr style=\"text-align: right;\">\n",
       "      <th></th>\n",
       "      <th>Date</th>\n",
       "      <th>Word</th>\n",
       "      <th>Clue</th>\n",
       "    </tr>\n",
       "  </thead>\n",
       "  <tbody>\n",
       "    <tr>\n",
       "      <th>80</th>\n",
       "      <td>10/31/2021</td>\n",
       "      <td>PEPE</td>\n",
       "      <td>Nickname for Jos�</td>\n",
       "    </tr>\n",
       "    <tr>\n",
       "      <th>396</th>\n",
       "      <td>10/27/2021</td>\n",
       "      <td>ONE</td>\n",
       "      <td>What the tangent of 45� is equal to</td>\n",
       "    </tr>\n",
       "    <tr>\n",
       "      <th>465</th>\n",
       "      <td>10/26/2021</td>\n",
       "      <td>SNERT</td>\n",
       "      <td>H�gar the Horrible's dog</td>\n",
       "    </tr>\n",
       "    <tr>\n",
       "      <th>812</th>\n",
       "      <td>10/21/2021</td>\n",
       "      <td>STAG</td>\n",
       "      <td>Animal on a J�germeister bottle</td>\n",
       "    </tr>\n",
       "    <tr>\n",
       "      <th>981</th>\n",
       "      <td>10/19/2021</td>\n",
       "      <td>ACUTEACCENT</td>\n",
       "      <td>Bit of d�cor?</td>\n",
       "    </tr>\n",
       "    <tr>\n",
       "      <th>...</th>\n",
       "      <td>...</td>\n",
       "      <td>...</td>\n",
       "      <td>...</td>\n",
       "    </tr>\n",
       "    <tr>\n",
       "      <th>781041</th>\n",
       "      <td>11/27/1993</td>\n",
       "      <td>DEBASER</td>\n",
       "      <td>He?�ll humiliate you</td>\n",
       "    </tr>\n",
       "    <tr>\n",
       "      <th>781050</th>\n",
       "      <td>11/27/1993</td>\n",
       "      <td>ASI</td>\n",
       "      <td>?�___ was saying...?�</td>\n",
       "    </tr>\n",
       "    <tr>\n",
       "      <th>781054</th>\n",
       "      <td>11/27/1993</td>\n",
       "      <td>NOTEPAD</td>\n",
       "      <td>Reporter?�s book</td>\n",
       "    </tr>\n",
       "    <tr>\n",
       "      <th>781062</th>\n",
       "      <td>11/27/1993</td>\n",
       "      <td>SAWDUST</td>\n",
       "      <td>Carpenter?�s floor cover</td>\n",
       "    </tr>\n",
       "    <tr>\n",
       "      <th>781072</th>\n",
       "      <td>11/27/1993</td>\n",
       "      <td>LOGO</td>\n",
       "      <td>NBC?�s peacock, e.g.</td>\n",
       "    </tr>\n",
       "  </tbody>\n",
       "</table>\n",
       "<p>1280 rows × 3 columns</p>\n",
       "</div>"
      ],
      "text/plain": [
       "              Date         Word                                 Clue\n",
       "80      10/31/2021         PEPE                    Nickname for Jos�\n",
       "396     10/27/2021          ONE  What the tangent of 45� is equal to\n",
       "465     10/26/2021        SNERT             H�gar the Horrible's dog\n",
       "812     10/21/2021         STAG      Animal on a J�germeister bottle\n",
       "981     10/19/2021  ACUTEACCENT                        Bit of d�cor?\n",
       "...            ...          ...                                  ...\n",
       "781041  11/27/1993      DEBASER                 He?�ll humiliate you\n",
       "781050  11/27/1993          ASI                ?�___ was saying...?�\n",
       "781054  11/27/1993      NOTEPAD                     Reporter?�s book\n",
       "781062  11/27/1993      SAWDUST             Carpenter?�s floor cover\n",
       "781072  11/27/1993         LOGO                 NBC?�s peacock, e.g.\n",
       "\n",
       "[1280 rows x 3 columns]"
      ]
     },
     "execution_count": 78,
     "metadata": {},
     "output_type": "execute_result"
    }
   ],
   "source": [
    "test_encoding_df = pd.read_csv(\"data/nytcrosswords.csv\")\n",
    "\n",
    "allowed_chars = r'^[A-Za-z\\s\\.\"-_!]+$'\n",
    "mask = ~test_encoding_df['Clue'].str.contains(allowed_chars)\n",
    "test_encoding_df[mask]"
   ]
  },
  {
   "cell_type": "markdown",
   "id": "cb83b626-1edf-4627-82c3-f642865c2250",
   "metadata": {},
   "source": [
    "After trying all the encodings I can think of _and_ using some offline tools I'm still stumped. Let's just manually clean up the rows we can and drop the rest."
   ]
  },
  {
   "cell_type": "code",
   "execution_count": 128,
   "id": "95321765-2756-40d8-b629-e8002cbaefad",
   "metadata": {
    "tags": []
   },
   "outputs": [
    {
     "name": "stdout",
     "output_type": "stream",
     "text": [
      "1238\n"
     ]
    },
    {
     "data": {
      "text/html": [
       "<div>\n",
       "<style scoped>\n",
       "    .dataframe tbody tr th:only-of-type {\n",
       "        vertical-align: middle;\n",
       "    }\n",
       "\n",
       "    .dataframe tbody tr th {\n",
       "        vertical-align: top;\n",
       "    }\n",
       "\n",
       "    .dataframe thead th {\n",
       "        text-align: right;\n",
       "    }\n",
       "</style>\n",
       "<table border=\"1\" class=\"dataframe\">\n",
       "  <thead>\n",
       "    <tr style=\"text-align: right;\">\n",
       "      <th></th>\n",
       "      <th>Date</th>\n",
       "      <th>Word</th>\n",
       "      <th>Clue</th>\n",
       "    </tr>\n",
       "  </thead>\n",
       "  <tbody>\n",
       "    <tr>\n",
       "      <th>4947</th>\n",
       "      <td>8/28/2021</td>\n",
       "      <td>RURAL</td>\n",
       "      <td>Like many scenes of the artist Jean-François M...</td>\n",
       "    </tr>\n",
       "    <tr>\n",
       "      <th>6421</th>\n",
       "      <td>8/9/2021</td>\n",
       "      <td>LES</td>\n",
       "      <td>Les États-Unis</td>\n",
       "    </tr>\n",
       "    <tr>\n",
       "      <th>6571</th>\n",
       "      <td>8/7/2021</td>\n",
       "      <td>ERES</td>\n",
       "      <td>\"De dónde eres?\" (Spanish 101 query)</td>\n",
       "    </tr>\n",
       "    <tr>\n",
       "      <th>6623</th>\n",
       "      <td>8/6/2021</td>\n",
       "      <td>SHAME</td>\n",
       "      <td>\"___ has poor memory\": Gabriel Garc�a M�rquez</td>\n",
       "    </tr>\n",
       "    <tr>\n",
       "      <th>6696</th>\n",
       "      <td>8/5/2021</td>\n",
       "      <td>ESO</td>\n",
       "      <td>That, en Espa�a</td>\n",
       "    </tr>\n",
       "    <tr>\n",
       "      <th>7069</th>\n",
       "      <td>8/1/2021</td>\n",
       "      <td>ELIO</td>\n",
       "      <td>___ Perlman, role for Timoth�e Chalamet in \"Ca...</td>\n",
       "    </tr>\n",
       "    <tr>\n",
       "      <th>7102</th>\n",
       "      <td>7/31/2021</td>\n",
       "      <td>AZTEC</td>\n",
       "      <td>Like the 16th-century ruler Cuauht�moc</td>\n",
       "    </tr>\n",
       "    <tr>\n",
       "      <th>7174</th>\n",
       "      <td>7/30/2021</td>\n",
       "      <td>GRASSHOPPER</td>\n",
       "      <td>Southern cocktail made with cr�me de menthe, c...</td>\n",
       "    </tr>\n",
       "    <tr>\n",
       "      <th>7321</th>\n",
       "      <td>7/28/2021</td>\n",
       "      <td>LEAPS</td>\n",
       "      <td>Jet�s, e.g.</td>\n",
       "    </tr>\n",
       "    <tr>\n",
       "      <th>7328</th>\n",
       "      <td>7/28/2021</td>\n",
       "      <td>EVA</td>\n",
       "      <td>Se�ora Per�n</td>\n",
       "    </tr>\n",
       "    <tr>\n",
       "      <th>7373</th>\n",
       "      <td>7/27/2021</td>\n",
       "      <td>MOMA</td>\n",
       "      <td>Place to see Dal�, Ernst and Kahlo, informally</td>\n",
       "    </tr>\n",
       "    <tr>\n",
       "      <th>7412</th>\n",
       "      <td>7/27/2021</td>\n",
       "      <td>ANOS</td>\n",
       "      <td>12-Down en espa�ol</td>\n",
       "    </tr>\n",
       "    <tr>\n",
       "      <th>7425</th>\n",
       "      <td>7/27/2021</td>\n",
       "      <td>PAD</td>\n",
       "      <td>Embellish, as a r�sum�</td>\n",
       "    </tr>\n",
       "    <tr>\n",
       "      <th>7589</th>\n",
       "      <td>7/25/2021</td>\n",
       "      <td>NICER</td>\n",
       "      <td>Like five-star hotels vis-�-vis three-star ones</td>\n",
       "    </tr>\n",
       "    <tr>\n",
       "      <th>7664</th>\n",
       "      <td>7/24/2021</td>\n",
       "      <td>TRES</td>\n",
       "      <td>Very, to V�ronique</td>\n",
       "    </tr>\n",
       "    <tr>\n",
       "      <th>7722</th>\n",
       "      <td>7/23/2021</td>\n",
       "      <td>SIDEA</td>\n",
       "      <td>Queen's \"We Are the Champions\" vis-�-vis \"We W...</td>\n",
       "    </tr>\n",
       "    <tr>\n",
       "      <th>7909</th>\n",
       "      <td>7/20/2021</td>\n",
       "      <td>LYON</td>\n",
       "      <td>City on the Rh�ne</td>\n",
       "    </tr>\n",
       "    <tr>\n",
       "      <th>8365</th>\n",
       "      <td>7/14/2021</td>\n",
       "      <td>CARTE</td>\n",
       "      <td>Menu at un caf�</td>\n",
       "    </tr>\n",
       "    <tr>\n",
       "      <th>8433</th>\n",
       "      <td>7/13/2021</td>\n",
       "      <td>ELISE</td>\n",
       "      <td>Beethoven's \"F�r ___\"</td>\n",
       "    </tr>\n",
       "    <tr>\n",
       "      <th>8467</th>\n",
       "      <td>7/13/2021</td>\n",
       "      <td>HEREITIS</td>\n",
       "      <td>\"Voil�!\"</td>\n",
       "    </tr>\n",
       "  </tbody>\n",
       "</table>\n",
       "</div>"
      ],
      "text/plain": [
       "           Date         Word  \\\n",
       "4947  8/28/2021        RURAL   \n",
       "6421   8/9/2021          LES   \n",
       "6571   8/7/2021         ERES   \n",
       "6623   8/6/2021        SHAME   \n",
       "6696   8/5/2021          ESO   \n",
       "7069   8/1/2021         ELIO   \n",
       "7102  7/31/2021        AZTEC   \n",
       "7174  7/30/2021  GRASSHOPPER   \n",
       "7321  7/28/2021        LEAPS   \n",
       "7328  7/28/2021          EVA   \n",
       "7373  7/27/2021         MOMA   \n",
       "7412  7/27/2021         ANOS   \n",
       "7425  7/27/2021          PAD   \n",
       "7589  7/25/2021        NICER   \n",
       "7664  7/24/2021         TRES   \n",
       "7722  7/23/2021        SIDEA   \n",
       "7909  7/20/2021         LYON   \n",
       "8365  7/14/2021        CARTE   \n",
       "8433  7/13/2021        ELISE   \n",
       "8467  7/13/2021     HEREITIS   \n",
       "\n",
       "                                                   Clue  \n",
       "4947  Like many scenes of the artist Jean-François M...  \n",
       "6421                                     Les États-Unis  \n",
       "6571               \"De dónde eres?\" (Spanish 101 query)  \n",
       "6623      \"___ has poor memory\": Gabriel Garc�a M�rquez  \n",
       "6696                                    That, en Espa�a  \n",
       "7069  ___ Perlman, role for Timoth�e Chalamet in \"Ca...  \n",
       "7102             Like the 16th-century ruler Cuauht�moc  \n",
       "7174  Southern cocktail made with cr�me de menthe, c...  \n",
       "7321                                        Jet�s, e.g.  \n",
       "7328                                       Se�ora Per�n  \n",
       "7373     Place to see Dal�, Ernst and Kahlo, informally  \n",
       "7412                                 12-Down en espa�ol  \n",
       "7425                             Embellish, as a r�sum�  \n",
       "7589    Like five-star hotels vis-�-vis three-star ones  \n",
       "7664                                 Very, to V�ronique  \n",
       "7722  Queen's \"We Are the Champions\" vis-�-vis \"We W...  \n",
       "7909                                  City on the Rh�ne  \n",
       "8365                                    Menu at un caf�  \n",
       "8433                              Beethoven's \"F�r ___\"  \n",
       "8467                                           \"Voil�!\"  "
      ]
     },
     "execution_count": 128,
     "metadata": {},
     "output_type": "execute_result"
    }
   ],
   "source": [
    "df.at[80, 'Clue'] = 'Nickname for Jose'\n",
    "df.at[396, 'Clue'] = 'What the tangent of 45° is equal to'\n",
    "df.at[465, 'Clue'] = 'Hagar the Horrible\\'s dog'\n",
    "df.at[812, 'Clue'] = 'Animal on a Jagermeister bottle'\n",
    "df.at[981, 'Clue'] = 'Bit of decor?'\n",
    "\n",
    "# from chat gpt\n",
    "df.at[1111, 'Clue'] = 'Part of the body named after Dr. Ernst Grafenberg'\n",
    "df.at[1147, 'Clue'] = 'Sight on an M. C. Escher Mobius strip'\n",
    "df.at[1238, 'Clue'] = 'Its anthem is \"Terre de nos aieux\"'\n",
    "df.at[1473, 'Clue'] = 'Opera division'\n",
    "df.at[1476, 'Clue'] = 'Reunion, for one'\n",
    "df.at[1624, 'Clue'] = 'Magazine co-founded in 1945 by Helene Gordon'\n",
    "df.at[2212, 'Clue'] = 'AZUR Cote d\\'Azur'\n",
    "df.at[2282, 'Clue'] = 'Eleven, en francais'\n",
    "df.at[2292, 'Clue'] = ' ___ d\\'Etat'\n",
    "df.at[2446, 'Clue'] = 'Hagar the Horrible\\'s pooch'\n",
    "df.at[2557, 'Clue'] = 'Like Prince William vis-a-vis Prince Harry'\n",
    "df.at[2579, 'Clue'] = 'One of a resume pair?'\n",
    "df.at[2701, 'Clue'] = 'Function whose output is 45° when applied to 1'\n",
    "df.at[2881, 'Clue'] = 'The singer Bjork, for one'\n",
    "df.at[2937, 'Clue'] = '£ : pound sterling :: R : ___'\n",
    "df.at[2940, 'Clue'] = '58 ___ Mediterraneo'\n",
    "df.at[3024, 'Clue'] = 'Ile de la Cite, one end of Paris\\'s Pont Neuf'\n",
    "df.at[3091, 'Clue'] = 'Fish often served \"meuniere\"'\n",
    "\n",
    "df.at[3254, 'Clue'] = 'Wielder of the hammer Mjölnir'\n",
    "df.at[3402, 'Clue'] = 'Quinceañeras, e.g.'\n",
    "df.at[3450, 'Clue'] = 'Perfect vis-à-vis good, in an aphorism'\n",
    "df.at[3630, 'Clue'] = 'Risqué'\n",
    "df.at[4037, 'Clue'] = 'Emily Brontë pseudonym'\n",
    "df.at[4056, 'Clue'] = \"Aéroport d'Orly\"\n",
    "df.at[4407, 'Clue'] = '\"90 Day Fiancé\" channel'\n",
    "df.at[4459, 'Clue'] = '0, for 0°'\n",
    "df.at[4618, 'Clue'] = 'Word on either side of \"à\"'\n",
    "df.at[5558, 'Clue'] = 'Opposite of là'\n",
    "df.at[5883, 'Clue'] = '365 días'\n",
    "df.at[6215, 'Clue'] = 'José Olé (frozen foods brand)'\n",
    "df.at[6347, 'Clue'] = 'Tête-à-tête'\n",
    "df.at[6409, 'Clue'] = 'What good soufflés do'\n",
    "df.at[6410, 'Clue'] = '\"Liberté, égalité, fraternité\" (Haiti\\'s motto)'\n",
    "df.at[6421, 'Clue'] = 'Les États-Unis'\n",
    "df.at[6571, 'Clue'] = '\"De dónde eres?\" (Spanish 101 query)'\n",
    "\n",
    "allowed_chars = r'^[A-Za-z\\s\\.\"-_!£öñàéë°íê]+$'\n",
    "mask = ~df['Clue'].str.contains(allowed_chars)\n",
    "print(len(df[mask]))\n",
    "df[mask].head(20)"
   ]
  },
  {
   "cell_type": "markdown",
   "id": "44cad889-16d0-4af1-a63d-063b3eeeb763",
   "metadata": {},
   "source": [
    "Using ChatGPT the missing characters can be identified pretty easily, but it's still a huge pain to update them and I think the special characters will make our life more difficult in the future so let's just ignore them and reconsider this in the future if we need to.\n",
    "\n",
    "We now need to:\n",
    "* Remove empty rows\n",
    "* Replace NaN with \"NULL\"\n",
    "* Remove rows with characters that we don't like\n",
    "\n",
    "Let's do this in a new notebook and then take a fresh look at the data."
   ]
  },
  {
   "cell_type": "markdown",
   "id": "d0c447a4-518a-4479-ac38-ebb4a955815e",
   "metadata": {},
   "source": [
    "## Future cleaning to consider\n",
    "* unknown characters\n",
    "* \"see 64-across\", {See Notepad}, etc ex"
   ]
  }
 ],
 "metadata": {
  "kernelspec": {
   "display_name": "Python 3 (ipykernel)",
   "language": "python",
   "name": "python3"
  },
  "language_info": {
   "codemirror_mode": {
    "name": "ipython",
    "version": 3
   },
   "file_extension": ".py",
   "mimetype": "text/x-python",
   "name": "python",
   "nbconvert_exporter": "python",
   "pygments_lexer": "ipython3",
   "version": "3.9.15"
  }
 },
 "nbformat": 4,
 "nbformat_minor": 5
}
