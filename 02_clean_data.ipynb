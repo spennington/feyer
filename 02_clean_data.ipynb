{
 "cells": [
  {
   "cell_type": "markdown",
   "id": "5ce55b22-5ad0-4eee-990c-ab4eb3656b3c",
   "metadata": {},
   "source": [
    "# Data Cleanup\n",
    "\n",
    "Based on the exploration in [01_data_exploration.ipynb](01_data_exploration.ipynb) we need to:\n",
    "* Remove empty rows\n",
    "* Replace NaN with \"NULL\"\n",
    "* Remove rows with characters that we don't like"
   ]
  },
  {
   "cell_type": "code",
   "execution_count": 98,
   "id": "8866d761-500f-4db2-a815-1ad54576616d",
   "metadata": {
    "tags": []
   },
   "outputs": [
    {
     "name": "stdout",
     "output_type": "stream",
     "text": [
      "Starting row count: 781573\n",
      "Removed 1 empty row(s)\n",
      "Removed 1267 unknown character rows\n",
      "Ending row count: 780305\n"
     ]
    }
   ],
   "source": [
    "import pandas as pd\n",
    "import re\n",
    "\n",
    "\n",
    "# keep_default_na=False will parse \"NULL\" properly\n",
    "df = pd.read_csv(\"data/nytcrosswords.csv\", keep_default_na=False)\n",
    "print(f'Starting row count: {len(df)}')\n",
    "\n",
    "# remove rows without an answer\n",
    "previous_len = len(df)\n",
    "df['word_length'] = df['Word'].apply(lambda x: len(str(x).strip()))\n",
    "df = df.drop(df[df['word_length'] <= 1].index)\n",
    "print(f'Removed {previous_len - len(df)} empty row(s)')\n",
    "\n",
    "# remove rows with unknown characters\n",
    "previous_len = len(df)\n",
    "unknown_char_pattern = '[^\\x00-\\x7F]'\n",
    "unknown_rows = df[df['Clue'].str.contains(unknown_char_pattern)]\n",
    "df = df[~df['Clue'].str.contains(unknown_char_pattern)]\n",
    "print(f'Removed {previous_len - len(df)} unknown character rows')\n",
    "                             \n",
    "print(f'Ending row count: {len(df)}')"
   ]
  },
  {
   "cell_type": "markdown",
   "id": "222ed5b5-e0d2-4f29-b8dd-cbbe6d96d849",
   "metadata": {},
   "source": [
    "Let's rename columns and only keep the data we actually care about."
   ]
  },
  {
   "cell_type": "code",
   "execution_count": 99,
   "id": "32609c2f-51a7-40c4-a992-f9028549e379",
   "metadata": {
    "tags": []
   },
   "outputs": [
    {
     "name": "stdout",
     "output_type": "stream",
     "text": [
      "Index(['Date', 'Word', 'Clue', 'word_length'], dtype='object')\n"
     ]
    }
   ],
   "source": [
    "print(df.columns)"
   ]
  },
  {
   "cell_type": "code",
   "execution_count": 100,
   "id": "0b781a6f-e7af-420d-902e-3d6d8bd188b4",
   "metadata": {
    "tags": []
   },
   "outputs": [
    {
     "name": "stdout",
     "output_type": "stream",
     "text": [
      "Index(['answer', 'clue'], dtype='object')\n"
     ]
    }
   ],
   "source": [
    "df.drop(columns=['Date', 'word_length'], inplace=True)\n",
    "df.rename(columns={'Word': 'answer', \"Clue\": 'clue'}, inplace=True)\n",
    "\n",
    "print(df.columns)"
   ]
  },
  {
   "cell_type": "markdown",
   "id": "599ab5f2-9532-4c6f-9e9b-60253ee803d5",
   "metadata": {},
   "source": [
    "Finally, let's convert everything to lowercase and remove whitespace so our life is easier in the future."
   ]
  },
  {
   "cell_type": "code",
   "execution_count": 101,
   "id": "7385a141-3bfc-43d2-9a0e-c26d6bd56a23",
   "metadata": {
    "tags": []
   },
   "outputs": [],
   "source": [
    "df['answer'] = df['answer'].str.lower()\n",
    "df['clue'] = df['clue'].str.lower()\n",
    "df['answer'] = df['answer'].str.strip()\n",
    "df['clue'] = df['clue'].str.strip()"
   ]
  },
  {
   "cell_type": "markdown",
   "id": "fef48b9f-3118-4512-a0e6-4d11f44beb3b",
   "metadata": {},
   "source": [
    "Now, let's write this dataframe to a new CSV."
   ]
  },
  {
   "cell_type": "code",
   "execution_count": 102,
   "id": "3c9ec003-c835-47e4-985d-9a0b5bb2c051",
   "metadata": {
    "tags": []
   },
   "outputs": [],
   "source": [
    "df.to_csv('cleaned_data/clean_1.csv', index=False)"
   ]
  }
 ],
 "metadata": {
  "kernelspec": {
   "display_name": "Python 3 (ipykernel)",
   "language": "python",
   "name": "python3"
  },
  "language_info": {
   "codemirror_mode": {
    "name": "ipython",
    "version": 3
   },
   "file_extension": ".py",
   "mimetype": "text/x-python",
   "name": "python",
   "nbconvert_exporter": "python",
   "pygments_lexer": "ipython3",
   "version": "3.9.15"
  }
 },
 "nbformat": 4,
 "nbformat_minor": 5
}
