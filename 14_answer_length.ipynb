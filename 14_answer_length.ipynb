{
 "cells": [
  {
   "cell_type": "markdown",
   "id": "a26df711-10fa-4d21-a1b5-9ca0d6247eba",
   "metadata": {},
   "source": [
    "# Answer Length\n",
    "Crossword clues have another piece of information that we have been ignoring for now: the length of the answer is known ahead of time. This provides more infromation to the solver and can disambiguate a clue that otherwise could have multiple answers."
   ]
  },
  {
   "cell_type": "code",
   "execution_count": 8,
   "id": "3321be3c-e9ba-4122-b1ca-a5dac622c7ac",
   "metadata": {
    "tags": []
   },
   "outputs": [
    {
     "data": {
      "text/html": [
       "<div>\n",
       "<style scoped>\n",
       "    .dataframe tbody tr th:only-of-type {\n",
       "        vertical-align: middle;\n",
       "    }\n",
       "\n",
       "    .dataframe tbody tr th {\n",
       "        vertical-align: top;\n",
       "    }\n",
       "\n",
       "    .dataframe thead th {\n",
       "        text-align: right;\n",
       "    }\n",
       "</style>\n",
       "<table border=\"1\" class=\"dataframe\">\n",
       "  <thead>\n",
       "    <tr style=\"text-align: right;\">\n",
       "      <th></th>\n",
       "      <th>answer</th>\n",
       "      <th>clue</th>\n",
       "    </tr>\n",
       "  </thead>\n",
       "  <tbody>\n",
       "    <tr>\n",
       "      <th>260091</th>\n",
       "      <td>pencil</td>\n",
       "      <td>number 2, e.g.</td>\n",
       "    </tr>\n",
       "    <tr>\n",
       "      <th>468371</th>\n",
       "      <td>leadpencil</td>\n",
       "      <td>number 2, e.g.</td>\n",
       "    </tr>\n",
       "  </tbody>\n",
       "</table>\n",
       "</div>"
      ],
      "text/plain": [
       "            answer            clue\n",
       "260091      pencil  number 2, e.g.\n",
       "468371  leadpencil  number 2, e.g."
      ]
     },
     "execution_count": 8,
     "metadata": {},
     "output_type": "execute_result"
    }
   ],
   "source": [
    "import pandas as pd\n",
    "import matplotlib.pyplot as plt\n",
    "%matplotlib inline\n",
    "\n",
    "df = pd.read_csv(\"cleaned_data/dupes_10_or_less_tokens.csv\", keep_default_na=False)\n",
    "df[df['clue'] == 'number 2, e.g.']"
   ]
  },
  {
   "cell_type": "markdown",
   "id": "5ab5b5cd-43d4-4c6e-a4ea-7b76aee424cb",
   "metadata": {},
   "source": [
    "In the example above we have the same clue, but two answers both of which could be valid depending on the shape of our crossword. If we add an additional column to our table we can include the answer length along with the clue when we train out model."
   ]
  },
  {
   "cell_type": "code",
   "execution_count": 9,
   "id": "486584ac-b979-4580-a66c-5e953455197d",
   "metadata": {
    "tags": []
   },
   "outputs": [],
   "source": [
    "df['answer_length'] = df['answer'].str.len()"
   ]
  },
  {
   "cell_type": "code",
   "execution_count": 10,
   "id": "6c2e6c2a-7907-4a2e-a950-f05ba47309cb",
   "metadata": {
    "tags": []
   },
   "outputs": [
    {
     "data": {
      "text/html": [
       "<div>\n",
       "<style scoped>\n",
       "    .dataframe tbody tr th:only-of-type {\n",
       "        vertical-align: middle;\n",
       "    }\n",
       "\n",
       "    .dataframe tbody tr th {\n",
       "        vertical-align: top;\n",
       "    }\n",
       "\n",
       "    .dataframe thead th {\n",
       "        text-align: right;\n",
       "    }\n",
       "</style>\n",
       "<table border=\"1\" class=\"dataframe\">\n",
       "  <thead>\n",
       "    <tr style=\"text-align: right;\">\n",
       "      <th></th>\n",
       "      <th>answer</th>\n",
       "      <th>clue</th>\n",
       "      <th>answer_length</th>\n",
       "    </tr>\n",
       "  </thead>\n",
       "  <tbody>\n",
       "    <tr>\n",
       "      <th>260091</th>\n",
       "      <td>pencil</td>\n",
       "      <td>number 2, e.g.</td>\n",
       "      <td>6</td>\n",
       "    </tr>\n",
       "    <tr>\n",
       "      <th>468371</th>\n",
       "      <td>leadpencil</td>\n",
       "      <td>number 2, e.g.</td>\n",
       "      <td>10</td>\n",
       "    </tr>\n",
       "  </tbody>\n",
       "</table>\n",
       "</div>"
      ],
      "text/plain": [
       "            answer            clue  answer_length\n",
       "260091      pencil  number 2, e.g.              6\n",
       "468371  leadpencil  number 2, e.g.             10"
      ]
     },
     "execution_count": 10,
     "metadata": {},
     "output_type": "execute_result"
    }
   ],
   "source": [
    "df[df['clue'] == 'number 2, e.g.']"
   ]
  },
  {
   "cell_type": "markdown",
   "id": "58f2b0fa-aa7f-481d-85b3-d715dd98a73c",
   "metadata": {
    "tags": []
   },
   "source": [
    "## How much additional information does this provide?\n",
    "Now that we know the answer length, let's try and figure out what percentage of clues in our dataset can be uniquely identified."
   ]
  },
  {
   "cell_type": "code",
   "execution_count": 11,
   "id": "b11fe88a-177f-485f-bc95-98e748b1ddc3",
   "metadata": {
    "tags": []
   },
   "outputs": [
    {
     "data": {
      "text/html": [
       "<div>\n",
       "<style scoped>\n",
       "    .dataframe tbody tr th:only-of-type {\n",
       "        vertical-align: middle;\n",
       "    }\n",
       "\n",
       "    .dataframe tbody tr th {\n",
       "        vertical-align: top;\n",
       "    }\n",
       "\n",
       "    .dataframe thead th {\n",
       "        text-align: right;\n",
       "    }\n",
       "</style>\n",
       "<table border=\"1\" class=\"dataframe\">\n",
       "  <thead>\n",
       "    <tr style=\"text-align: right;\">\n",
       "      <th></th>\n",
       "      <th>clue</th>\n",
       "      <th>unique_answer_count</th>\n",
       "    </tr>\n",
       "  </thead>\n",
       "  <tbody>\n",
       "    <tr>\n",
       "      <th>0</th>\n",
       "      <td>split</td>\n",
       "      <td>38</td>\n",
       "    </tr>\n",
       "    <tr>\n",
       "      <th>1</th>\n",
       "      <td>cut</td>\n",
       "      <td>35</td>\n",
       "    </tr>\n",
       "    <tr>\n",
       "      <th>2</th>\n",
       "      <td>nonsense</td>\n",
       "      <td>31</td>\n",
       "    </tr>\n",
       "    <tr>\n",
       "      <th>3</th>\n",
       "      <td>o.k.</td>\n",
       "      <td>30</td>\n",
       "    </tr>\n",
       "    <tr>\n",
       "      <th>4</th>\n",
       "      <td>beat</td>\n",
       "      <td>30</td>\n",
       "    </tr>\n",
       "    <tr>\n",
       "      <th>...</th>\n",
       "      <td>...</td>\n",
       "      <td>...</td>\n",
       "    </tr>\n",
       "    <tr>\n",
       "      <th>35842</th>\n",
       "      <td>lord of the ring?</td>\n",
       "      <td>2</td>\n",
       "    </tr>\n",
       "    <tr>\n",
       "      <th>35843</th>\n",
       "      <td>employs</td>\n",
       "      <td>2</td>\n",
       "    </tr>\n",
       "    <tr>\n",
       "      <th>35844</th>\n",
       "      <td>\"if i ___ ...\"</td>\n",
       "      <td>2</td>\n",
       "    </tr>\n",
       "    <tr>\n",
       "      <th>35845</th>\n",
       "      <td>provider of inside info?</td>\n",
       "      <td>2</td>\n",
       "    </tr>\n",
       "    <tr>\n",
       "      <th>35846</th>\n",
       "      <td>masks</td>\n",
       "      <td>2</td>\n",
       "    </tr>\n",
       "  </tbody>\n",
       "</table>\n",
       "<p>35847 rows × 2 columns</p>\n",
       "</div>"
      ],
      "text/plain": [
       "                           clue  unique_answer_count\n",
       "0                         split                   38\n",
       "1                           cut                   35\n",
       "2                      nonsense                   31\n",
       "3                          o.k.                   30\n",
       "4                          beat                   30\n",
       "...                         ...                  ...\n",
       "35842         lord of the ring?                    2\n",
       "35843                   employs                    2\n",
       "35844            \"if i ___ ...\"                    2\n",
       "35845  provider of inside info?                    2\n",
       "35846                     masks                    2\n",
       "\n",
       "[35847 rows x 2 columns]"
      ]
     },
     "execution_count": 11,
     "metadata": {},
     "output_type": "execute_result"
    }
   ],
   "source": [
    "# how many clues have multiple answers\n",
    "group = df.groupby(['clue'])['answer'].nunique().sort_values(ascending=False).reset_index(name='unique_answer_count')\n",
    "multiple_answers = group[group['unique_answer_count'] > 1]\n",
    "multiple_answers"
   ]
  },
  {
   "cell_type": "code",
   "execution_count": 12,
   "id": "eebf7e3f-1ea3-4a36-b849-dc920f1383a0",
   "metadata": {
    "tags": []
   },
   "outputs": [
    {
     "data": {
      "text/html": [
       "<div>\n",
       "<style scoped>\n",
       "    .dataframe tbody tr th:only-of-type {\n",
       "        vertical-align: middle;\n",
       "    }\n",
       "\n",
       "    .dataframe tbody tr th {\n",
       "        vertical-align: top;\n",
       "    }\n",
       "\n",
       "    .dataframe thead th {\n",
       "        text-align: right;\n",
       "    }\n",
       "</style>\n",
       "<table border=\"1\" class=\"dataframe\">\n",
       "  <thead>\n",
       "    <tr style=\"text-align: right;\">\n",
       "      <th></th>\n",
       "      <th>clue</th>\n",
       "      <th>answer_length</th>\n",
       "      <th>unique_answer_count</th>\n",
       "    </tr>\n",
       "  </thead>\n",
       "  <tbody>\n",
       "    <tr>\n",
       "      <th>0</th>\n",
       "      <td>alphabet trio</td>\n",
       "      <td>3</td>\n",
       "      <td>13</td>\n",
       "    </tr>\n",
       "    <tr>\n",
       "      <th>1</th>\n",
       "      <td>calendar abbr.</td>\n",
       "      <td>3</td>\n",
       "      <td>13</td>\n",
       "    </tr>\n",
       "    <tr>\n",
       "      <th>2</th>\n",
       "      <td>up</td>\n",
       "      <td>5</td>\n",
       "      <td>12</td>\n",
       "    </tr>\n",
       "    <tr>\n",
       "      <th>3</th>\n",
       "      <td>split</td>\n",
       "      <td>4</td>\n",
       "      <td>11</td>\n",
       "    </tr>\n",
       "    <tr>\n",
       "      <th>4</th>\n",
       "      <td>cut</td>\n",
       "      <td>4</td>\n",
       "      <td>11</td>\n",
       "    </tr>\n",
       "    <tr>\n",
       "      <th>...</th>\n",
       "      <td>...</td>\n",
       "      <td>...</td>\n",
       "      <td>...</td>\n",
       "    </tr>\n",
       "    <tr>\n",
       "      <th>18546</th>\n",
       "      <td>memo header</td>\n",
       "      <td>4</td>\n",
       "      <td>2</td>\n",
       "    </tr>\n",
       "    <tr>\n",
       "      <th>18547</th>\n",
       "      <td>ignoble</td>\n",
       "      <td>4</td>\n",
       "      <td>2</td>\n",
       "    </tr>\n",
       "    <tr>\n",
       "      <th>18548</th>\n",
       "      <td>beguile</td>\n",
       "      <td>5</td>\n",
       "      <td>2</td>\n",
       "    </tr>\n",
       "    <tr>\n",
       "      <th>18549</th>\n",
       "      <td>ark contents</td>\n",
       "      <td>5</td>\n",
       "      <td>2</td>\n",
       "    </tr>\n",
       "    <tr>\n",
       "      <th>18550</th>\n",
       "      <td>memo heading</td>\n",
       "      <td>4</td>\n",
       "      <td>2</td>\n",
       "    </tr>\n",
       "  </tbody>\n",
       "</table>\n",
       "<p>18551 rows × 3 columns</p>\n",
       "</div>"
      ],
      "text/plain": [
       "                 clue  answer_length  unique_answer_count\n",
       "0       alphabet trio              3                   13\n",
       "1      calendar abbr.              3                   13\n",
       "2                  up              5                   12\n",
       "3               split              4                   11\n",
       "4                 cut              4                   11\n",
       "...               ...            ...                  ...\n",
       "18546     memo header              4                    2\n",
       "18547         ignoble              4                    2\n",
       "18548         beguile              5                    2\n",
       "18549    ark contents              5                    2\n",
       "18550    memo heading              4                    2\n",
       "\n",
       "[18551 rows x 3 columns]"
      ]
     },
     "execution_count": 12,
     "metadata": {},
     "output_type": "execute_result"
    }
   ],
   "source": [
    "# how many clues have multiple answers with the same length\n",
    "group = df.groupby(['clue', 'answer_length'])['answer'].nunique().sort_values(ascending=False).reset_index(name='unique_answer_count')\n",
    "multiple_answers_with_length = group[group['unique_answer_count'] > 1]\n",
    "multiple_answers_with_length"
   ]
  },
  {
   "cell_type": "code",
   "execution_count": 13,
   "id": "06e45e29-027b-4b30-b477-cbe744e9a87b",
   "metadata": {
    "tags": []
   },
   "outputs": [
    {
     "name": "stdout",
     "output_type": "stream",
     "text": [
      "Percentage of clues with multiple answers: 0.047237090742336674\n",
      "Percentage of clues with multiple answers, after considering length: 0.024445428358330894\n"
     ]
    }
   ],
   "source": [
    "print(f'Percentage of clues with multiple answers: {len(multiple_answers) / len(df)}')\n",
    "print(f'Percentage of clues with multiple answers, after considering length: {len(multiple_answers_with_length) / len(df)}')"
   ]
  },
  {
   "cell_type": "code",
   "execution_count": 14,
   "id": "5bc7e845-ef2f-4451-b09b-6dd1060b977c",
   "metadata": {
    "tags": []
   },
   "outputs": [
    {
     "data": {
      "image/png": "[encoded data removed]",
      "text/plain": [
       "<Figure size 640x480 with 1 Axes>"
      ]
     },
     "metadata": {},
     "output_type": "display_data"
    }
   ],
   "source": [
    "plt.hist(multiple_answers_with_length['unique_answer_count'].values, bins = list(range(15)))\n",
    "plt.show()"
   ]
  },
  {
   "cell_type": "markdown",
   "id": "6626be8b-b096-454b-a93a-6fa0d26e8377",
   "metadata": {},
   "source": [
    "So about 2.4% of our unique (clue, answer_length) pairs have multiple answers. Fortunately the vast majority of these have only two answers."
   ]
  },
  {
   "cell_type": "code",
   "execution_count": 16,
   "id": "c7650be3",
   "metadata": {},
   "outputs": [
    {
     "data": {
      "text/html": [
       "<div>\n",
       "<style scoped>\n",
       "    .dataframe tbody tr th:only-of-type {\n",
       "        vertical-align: middle;\n",
       "    }\n",
       "\n",
       "    .dataframe tbody tr th {\n",
       "        vertical-align: top;\n",
       "    }\n",
       "\n",
       "    .dataframe thead th {\n",
       "        text-align: right;\n",
       "    }\n",
       "</style>\n",
       "<table border=\"1\" class=\"dataframe\">\n",
       "  <thead>\n",
       "    <tr style=\"text-align: right;\">\n",
       "      <th></th>\n",
       "      <th>answer</th>\n",
       "      <th>clue</th>\n",
       "      <th>answer_length</th>\n",
       "    </tr>\n",
       "  </thead>\n",
       "  <tbody>\n",
       "    <tr>\n",
       "      <th>72797</th>\n",
       "      <td>thetruthwillsetyoufree</td>\n",
       "      <td>seeming opposite of \"ignorance is bliss\"</td>\n",
       "      <td>22</td>\n",
       "    </tr>\n",
       "    <tr>\n",
       "      <th>408893</th>\n",
       "      <td>grossnationalconduct</td>\n",
       "      <td>nose-picking and belching in the white house?</td>\n",
       "      <td>20</td>\n",
       "    </tr>\n",
       "    <tr>\n",
       "      <th>23329</th>\n",
       "      <td>raidersofthelostark</td>\n",
       "      <td>indy film? (1981)</td>\n",
       "      <td>19</td>\n",
       "    </tr>\n",
       "    <tr>\n",
       "      <th>363050</th>\n",
       "      <td>sermononthedismount</td>\n",
       "      <td>some moralizing about getting off a balance beam?</td>\n",
       "      <td>19</td>\n",
       "    </tr>\n",
       "    <tr>\n",
       "      <th>216628</th>\n",
       "      <td>oncebittentwiceshy</td>\n",
       "      <td>adage regarding skittishness</td>\n",
       "      <td>18</td>\n",
       "    </tr>\n",
       "    <tr>\n",
       "      <th>...</th>\n",
       "      <td>...</td>\n",
       "      <td>...</td>\n",
       "      <td>...</td>\n",
       "    </tr>\n",
       "    <tr>\n",
       "      <th>404058</th>\n",
       "      <td>nil</td>\n",
       "      <td>bubkes</td>\n",
       "      <td>3</td>\n",
       "    </tr>\n",
       "    <tr>\n",
       "      <th>404061</th>\n",
       "      <td>job</td>\n",
       "      <td>nine-to-five activity</td>\n",
       "      <td>3</td>\n",
       "    </tr>\n",
       "    <tr>\n",
       "      <th>404064</th>\n",
       "      <td>tao</td>\n",
       "      <td>lao-tzu principle</td>\n",
       "      <td>3</td>\n",
       "    </tr>\n",
       "    <tr>\n",
       "      <th>758873</th>\n",
       "      <td>sis</td>\n",
       "      <td>family girl</td>\n",
       "      <td>3</td>\n",
       "    </tr>\n",
       "    <tr>\n",
       "      <th>467330</th>\n",
       "      <td>pi</td>\n",
       "      <td>it's just past three</td>\n",
       "      <td>2</td>\n",
       "    </tr>\n",
       "  </tbody>\n",
       "</table>\n",
       "<p>758874 rows × 3 columns</p>\n",
       "</div>"
      ],
      "text/plain": [
       "                        answer  \\\n",
       "72797   thetruthwillsetyoufree   \n",
       "408893    grossnationalconduct   \n",
       "23329      raidersofthelostark   \n",
       "363050     sermononthedismount   \n",
       "216628      oncebittentwiceshy   \n",
       "...                        ...   \n",
       "404058                     nil   \n",
       "404061                     job   \n",
       "404064                     tao   \n",
       "758873                     sis   \n",
       "467330                      pi   \n",
       "\n",
       "                                                     clue  answer_length  \n",
       "72797            seeming opposite of \"ignorance is bliss\"             22  \n",
       "408893      nose-picking and belching in the white house?             20  \n",
       "23329                                   indy film? (1981)             19  \n",
       "363050  some moralizing about getting off a balance beam?             19  \n",
       "216628                       adage regarding skittishness             18  \n",
       "...                                                   ...            ...  \n",
       "404058                                             bubkes              3  \n",
       "404061                              nine-to-five activity              3  \n",
       "404064                                  lao-tzu principle              3  \n",
       "758873                                        family girl              3  \n",
       "467330                               it's just past three              2  \n",
       "\n",
       "[758874 rows x 3 columns]"
      ]
     },
     "execution_count": 16,
     "metadata": {},
     "output_type": "execute_result"
    }
   ],
   "source": [
    "df.sort_values(by='answer_length', ascending=False)"
   ]
  },
  {
   "cell_type": "markdown",
   "id": "1c9dd559-0dca-4bd2-8f06-ae9d1de1da53",
   "metadata": {},
   "source": [
    "## Write Data"
   ]
  },
  {
   "cell_type": "code",
   "execution_count": 15,
   "id": "a787d207-91cf-4c64-958e-8bd539a8ec8d",
   "metadata": {
    "tags": []
   },
   "outputs": [],
   "source": [
    "df.to_csv('cleaned_data/dupes_10_or_less_tokens_with_answer_length.csv', index=False)"
   ]
  }
 ],
 "metadata": {
  "kernelspec": {
   "display_name": "ml_dev",
   "language": "python",
   "name": "python3"
  },
  "language_info": {
   "codemirror_mode": {
    "name": "ipython",
    "version": 3
   },
   "file_extension": ".py",
   "mimetype": "text/x-python",
   "name": "python",
   "nbconvert_exporter": "python",
   "pygments_lexer": "ipython3",
   "version": "3.9.15"
  },
  "vscode": {
   "interpreter": {
    "hash": "42b85a257f5624c76500f25a969244d887270373d8988c1b039e87d3dd5d8436"
   }
  }
 },
 "nbformat": 4,
 "nbformat_minor": 5
}
